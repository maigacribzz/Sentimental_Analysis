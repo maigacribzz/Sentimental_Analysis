{
 "cells": [
  {
   "cell_type": "code",
   "execution_count": 13,
   "id": "33b2ac8c",
   "metadata": {},
   "outputs": [
    {
     "name": "stdout",
     "output_type": "stream",
     "text": [
      "Overwriting Assignment2.txt\n"
     ]
    }
   ],
   "source": [
    "%%writefile Assignment2.txt\n",
    "As John snuck up on his wife, he was as quiet as a mouse. Salley is a daisy and everybody likes her. She had been married to John for five years.  Marriage is a journey, but marriage to John is more exciting than most. Life with John was nothing if not exciting. But life wasn't a beach for the two.\n",
    "\n",
    "They had a great dog, Max, but death like a thief stole Max at a snail's pace.  Max made many memorable moments, making them miss him in a multitude of melancholy moments of malaise. Max once pulled the couple out of bed during a house fire, so the two could get to safety before the house became engulfed in flames. \n",
    "\n",
    "Yes, life is a fickle mistress for the young couple, but they soldier on. As John reaches out to startle Salley, she turned with the garden hose dousing him in water. Life ain't a peach, but the were as happy as a pig in mud."
   ]
  },
  {
   "cell_type": "code",
   "execution_count": 56,
   "id": "478e5b08",
   "metadata": {},
   "outputs": [],
   "source": [
    "myfile = open('Assignment2.txt')"
   ]
  },
  {
   "cell_type": "code",
   "execution_count": 57,
   "id": "bbb8c25e",
   "metadata": {},
   "outputs": [
    {
     "data": {
      "text/plain": [
       "<_io.TextIOWrapper name='Assignment2.txt' mode='r' encoding='UTF-8'>"
      ]
     },
     "execution_count": 57,
     "metadata": {},
     "output_type": "execute_result"
    }
   ],
   "source": [
    "myfile"
   ]
  },
  {
   "cell_type": "code",
   "execution_count": 58,
   "id": "8fa95cc7",
   "metadata": {},
   "outputs": [
    {
     "data": {
      "text/plain": [
       "\"As John snuck up on his wife, he was as quiet as a mouse. Salley is a daisy and everybody likes her. She had been married to John for five years.  Marriage is a journey, but marriage to John is more exciting than most. Life with John was nothing if not exciting. But life wasn't a beach for the two.\\n\\nThey had a great dog, Max, but death like a thief stole Max at a snail's pace.  Max made many memorable moments, making them miss him in a multitude of melancholy moments of malaise. Max once pulled the couple out of bed during a house fire, so the two could get to safety before the house became engulfed in flames. \\n\\nYes, life is a fickle mistress for the young couple, but they soldier on. As John reaches out to startle Salley, she turned with the garden hose dousing him in water. Life ain't a peach, but the were as happy as a pig in mud.\\n\""
      ]
     },
     "execution_count": 58,
     "metadata": {},
     "output_type": "execute_result"
    }
   ],
   "source": [
    "myfile.read()"
   ]
  },
  {
   "cell_type": "code",
   "execution_count": 89,
   "id": "ba7b3a40",
   "metadata": {},
   "outputs": [
    {
     "data": {
      "text/plain": [
       "''"
      ]
     },
     "execution_count": 89,
     "metadata": {},
     "output_type": "execute_result"
    }
   ],
   "source": [
    "myfile.read()"
   ]
  },
  {
   "cell_type": "code",
   "execution_count": 90,
   "id": "0191ff4c",
   "metadata": {},
   "outputs": [
    {
     "data": {
      "text/plain": [
       "0"
      ]
     },
     "execution_count": 90,
     "metadata": {},
     "output_type": "execute_result"
    }
   ],
   "source": [
    "myfile.seek(0)"
   ]
  },
  {
   "cell_type": "code",
   "execution_count": 91,
   "id": "cc0f84b1",
   "metadata": {},
   "outputs": [],
   "source": [
    "text = myfile.read()"
   ]
  },
  {
   "cell_type": "code",
   "execution_count": 92,
   "id": "7e39db3e",
   "metadata": {},
   "outputs": [
    {
     "data": {
      "text/plain": [
       "\"As John snuck up on his wife, he was as quiet as a mouse. Salley is a daisy and everybody likes her. She had been married to John for five years.  Marriage is a journey, but marriage to John is more exciting than most. Life with John was nothing if not exciting. But life wasn't a beach for the two.\\n\\nThey had a great dog, Max, but death like a thief stole Max at a snail's pace.  Max made many memorable moments, making them miss him in a multitude of melancholy moments of malaise. Max once pulled the couple out of bed during a house fire, so the two could get to safety before the house became engulfed in flames. \\n\\nYes, life is a fickle mistress for the young couple, but they soldier on. As John reaches out to startle Salley, she turned with the garden hose dousing him in water. Life ain't a peach, but the were as happy as a pig in mud.\\n\""
      ]
     },
     "execution_count": 92,
     "metadata": {},
     "output_type": "execute_result"
    }
   ],
   "source": [
    "text"
   ]
  },
  {
   "cell_type": "code",
   "execution_count": 93,
   "id": "15b13b89",
   "metadata": {},
   "outputs": [],
   "source": [
    "import spacy\n",
    "nlp = spacy.load('en_core_web_sm')"
   ]
  },
  {
   "cell_type": "code",
   "execution_count": 94,
   "id": "1ca63c25",
   "metadata": {},
   "outputs": [],
   "source": [
    "from spacy.matcher import Matcher\n",
    "matcher = Matcher(nlp.vocab)"
   ]
  },
  {
   "cell_type": "code",
   "execution_count": 95,
   "id": "1e80ff92",
   "metadata": {},
   "outputs": [],
   "source": [
    "doc = nlp(text)"
   ]
  },
  {
   "cell_type": "code",
   "execution_count": 96,
   "id": "29d1a340",
   "metadata": {},
   "outputs": [
    {
     "data": {
      "text/plain": [
       "spacy.tokens.doc.Doc"
      ]
     },
     "execution_count": 96,
     "metadata": {},
     "output_type": "execute_result"
    }
   ],
   "source": [
    "type(doc)"
   ]
  },
  {
   "cell_type": "code",
   "execution_count": 97,
   "id": "37d4d2ef",
   "metadata": {},
   "outputs": [],
   "source": [
    "metaphor_pat = [{'POS':'NOUN'}, {'LEMMA':'be'},{'LOWER':'a'},{'POS':'NOUN'}]\n",
    "simile_pat = [{'POS':'ADJ'}, {'LEMMA':'as'},{'LOWER':'a'}, {'POS':'NOUN'}]\n",
    "simile_pat1 = [{'POS':'ADJ'}, {'LEMMA':'like'},{'LOWER':'a'}, {'POS':'NOUN'}]"
   ]
  },
  {
   "cell_type": "code",
   "execution_count": 98,
   "id": "8097cf0a",
   "metadata": {},
   "outputs": [
    {
     "data": {
      "text/plain": [
       "list"
      ]
     },
     "execution_count": 98,
     "metadata": {},
     "output_type": "execute_result"
    }
   ],
   "source": [
    "type(metaphor_pat)"
   ]
  },
  {
   "cell_type": "code",
   "execution_count": 99,
   "id": "efa2c615",
   "metadata": {},
   "outputs": [],
   "source": [
    "matcher.add('Metaphor',[metaphor_pat,simile_pat,simile_pat1])"
   ]
  },
  {
   "cell_type": "code",
   "execution_count": 100,
   "id": "17235de1",
   "metadata": {},
   "outputs": [],
   "source": [
    "matches = matcher(doc)"
   ]
  },
  {
   "cell_type": "code",
   "execution_count": 101,
   "id": "4b921d86",
   "metadata": {},
   "outputs": [
    {
     "data": {
      "text/plain": [
       "list"
      ]
     },
     "execution_count": 101,
     "metadata": {},
     "output_type": "execute_result"
    }
   ],
   "source": [
    "type(matches)"
   ]
  },
  {
   "cell_type": "code",
   "execution_count": 102,
   "id": "4119d8b8",
   "metadata": {},
   "outputs": [
    {
     "data": {
      "text/plain": [
       "[(6519282501060040748, 11, 15),\n",
       " (6519282501060040748, 36, 40),\n",
       " (6519282501060040748, 187, 191)]"
      ]
     },
     "execution_count": 102,
     "metadata": {},
     "output_type": "execute_result"
    }
   ],
   "source": [
    "matches"
   ]
  },
  {
   "cell_type": "code",
   "execution_count": 103,
   "id": "7586360d",
   "metadata": {},
   "outputs": [
    {
     "name": "stdout",
     "output_type": "stream",
     "text": [
      "6519282501060040748 : quiet as a mouse\n",
      "6519282501060040748 : Marriage is a journey\n",
      "6519282501060040748 : happy as a pig\n"
     ]
    }
   ],
   "source": [
    "for m_id, m_start, m_end in matches:\n",
    "    span = doc[m_start : m_end]\n",
    "    print(f'{m_id} : {span}')"
   ]
  },
  {
   "cell_type": "markdown",
   "id": "a007cfa0",
   "metadata": {},
   "source": [
    "## Question 2"
   ]
  },
  {
   "cell_type": "code",
   "execution_count": 109,
   "id": "ef96a248",
   "metadata": {},
   "outputs": [],
   "source": [
    "import re"
   ]
  },
  {
   "cell_type": "code",
   "execution_count": 110,
   "id": "c0ea5d5a",
   "metadata": {},
   "outputs": [],
   "source": [
    "pattern = \"Max made many memorable moments\""
   ]
  },
  {
   "cell_type": "code",
   "execution_count": 111,
   "id": "a7dec1fe",
   "metadata": {},
   "outputs": [],
   "source": [
    "re."
   ]
  },
  {
   "cell_type": "code",
   "execution_count": 112,
   "id": "53ecae70",
   "metadata": {},
   "outputs": [],
   "source": [
    "my_match = re.search(pattern,text)"
   ]
  },
  {
   "cell_type": "code",
   "execution_count": 113,
   "id": "5274b01f",
   "metadata": {},
   "outputs": [
    {
     "ename": "AttributeError",
     "evalue": "'NoneType' object has no attribute 'span'",
     "output_type": "error",
     "traceback": [
      "\u001b[0;31m---------------------------------------------------------------------------\u001b[0m",
      "\u001b[0;31mAttributeError\u001b[0m                            Traceback (most recent call last)",
      "\u001b[0;32m/var/folders/xx/6_1vbnz16f5dyqxq51qhqb640000gn/T/ipykernel_84017/3393656387.py\u001b[0m in \u001b[0;36m<module>\u001b[0;34m\u001b[0m\n\u001b[0;32m----> 1\u001b[0;31m \u001b[0mmy_match\u001b[0m\u001b[0;34m.\u001b[0m\u001b[0mspan\u001b[0m\u001b[0;34m(\u001b[0m\u001b[0;34m)\u001b[0m\u001b[0;34m\u001b[0m\u001b[0;34m\u001b[0m\u001b[0m\n\u001b[0m",
      "\u001b[0;31mAttributeError\u001b[0m: 'NoneType' object has no attribute 'span'"
     ]
    }
   ],
   "source": [
    "my_match."
   ]
  },
  {
   "cell_type": "code",
   "execution_count": null,
   "id": "b8d84aca",
   "metadata": {},
   "outputs": [],
   "source": []
  }
 ],
 "metadata": {
  "kernelspec": {
   "display_name": "Python 3 (ipykernel)",
   "language": "python",
   "name": "python3"
  },
  "language_info": {
   "codemirror_mode": {
    "name": "ipython",
    "version": 3
   },
   "file_extension": ".py",
   "mimetype": "text/x-python",
   "name": "python",
   "nbconvert_exporter": "python",
   "pygments_lexer": "ipython3",
   "version": "3.7.11"
  }
 },
 "nbformat": 4,
 "nbformat_minor": 5
}
