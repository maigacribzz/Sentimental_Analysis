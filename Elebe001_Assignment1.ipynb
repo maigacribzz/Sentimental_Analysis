{
 "cells": [
  {
   "cell_type": "code",
   "execution_count": 2,
   "id": "067d8fec",
   "metadata": {},
   "outputs": [],
   "source": [
    "import spacy \n",
    "nlp = spacy.load('en_core_web_sm')"
   ]
  },
  {
   "cell_type": "code",
   "execution_count": 3,
   "id": "30e2cce6",
   "metadata": {},
   "outputs": [],
   "source": [
    "from spacy.matcher import Matcher\n",
    "matcher = Matcher(nlp.vocab)"
   ]
  },
  {
   "cell_type": "code",
   "execution_count": 4,
   "id": "c86a8d83",
   "metadata": {},
   "outputs": [],
   "source": [
    "with open('/Users/oghenemaigaelebe/OneDrive/MASTERS/Text Mining/Assignment2.txt','r') as f:\n",
    "    doc = nlp(f.read())"
   ]
  },
  {
   "cell_type": "code",
   "execution_count": 5,
   "id": "4c242425",
   "metadata": {},
   "outputs": [
    {
     "data": {
      "text/plain": [
       "'/Users/oghenemaigaelebe/OneDrive/MASTERS/Text Mining'"
      ]
     },
     "execution_count": 5,
     "metadata": {},
     "output_type": "execute_result"
    }
   ],
   "source": [
    "pwd"
   ]
  },
  {
   "cell_type": "code",
   "execution_count": 6,
   "id": "a86d9d9f",
   "metadata": {},
   "outputs": [
    {
     "name": "stdout",
     "output_type": "stream",
     "text": [
      "As John snuck up on his wife, he was as quiet as a mouse. Salley is a daisy and everybody likes her. She had been married to John for five years.  Marriage is a journey, but marriage to John is more exciting than most. Life with John was nothing if not exciting. But life wasn't a beach for the two.\n",
      "\n",
      "They had a great dog, Max, but death like a thief stole Max at a snail's pace.  Max made many memorable moments, making them miss him in a multitude of melancholy moments of malaise. Max once pulled the couple out of bed during a house fire, so the two could get to safety before the house became engulfed in flames. \n",
      "\n",
      "Yes, life is a fickle mistress for the young couple, but they soldier on. As John reaches out to startle Salley, she turned with the garden hose dousing him in water. Life ain't a peach, but the were as happy as a pig in mud.\n",
      "\n"
     ]
    }
   ],
   "source": [
    "print(doc)"
   ]
  },
  {
   "cell_type": "code",
   "execution_count": 7,
   "id": "61d37740",
   "metadata": {},
   "outputs": [
    {
     "data": {
      "text/plain": [
       "spacy.tokens.doc.Doc"
      ]
     },
     "execution_count": 7,
     "metadata": {},
     "output_type": "execute_result"
    }
   ],
   "source": [
    "type(doc)"
   ]
  },
  {
   "cell_type": "code",
   "execution_count": 8,
   "id": "22b06b03",
   "metadata": {},
   "outputs": [],
   "source": [
    "pattern1 = [{'POS':'NOUN'},{'LEMMA':'be'},{'LOWER':'a'},{'POS':'NOUN'}]\n",
    "pattern2 = [{'POS':'ADJ'},{'LEMMA':'as'},{'LOWER':'a'},{'POS':'NOUN'}]\n",
    "pattern3 = [{'POS':'ADJ'}, {'LEMMA':'like'},{'LOWER':'a'}, {'POS':'NOUN'}]"
   ]
  },
  {
   "cell_type": "code",
   "execution_count": 9,
   "id": "bd697efc",
   "metadata": {},
   "outputs": [],
   "source": [
    "matcher.add('Assignment',[pattern1,pattern2,pattern3])"
   ]
  },
  {
   "cell_type": "code",
   "execution_count": 10,
   "id": "df99992b",
   "metadata": {},
   "outputs": [],
   "source": [
    "matches = matcher(doc)"
   ]
  },
  {
   "cell_type": "code",
   "execution_count": 11,
   "id": "4b1b3728",
   "metadata": {},
   "outputs": [
    {
     "name": "stdout",
     "output_type": "stream",
     "text": [
      "[(16044438996949852846, 11, 15), (16044438996949852846, 36, 40), (16044438996949852846, 187, 191)]\n"
     ]
    }
   ],
   "source": [
    "print(matches)"
   ]
  },
  {
   "cell_type": "code",
   "execution_count": 12,
   "id": "d4f32124",
   "metadata": {},
   "outputs": [
    {
     "name": "stdout",
     "output_type": "stream",
     "text": [
      "16044438996949852846 Assignment 11 15 quiet as a mouse\n",
      "16044438996949852846 Assignment 36 40 Marriage is a journey\n",
      "16044438996949852846 Assignment 187 191 happy as a pig\n"
     ]
    }
   ],
   "source": [
    "for match_id, start,end in matches:\n",
    "    string_id = nlp.vocab.strings[match_id]\n",
    "    span=doc[start:end]\n",
    "    print(match_id,string_id,start,end,span.text)"
   ]
  },
  {
   "cell_type": "code",
   "execution_count": 13,
   "id": "636be772",
   "metadata": {},
   "outputs": [],
   "source": [
    "matcher.remove('Assignment')"
   ]
  },
  {
   "cell_type": "markdown",
   "id": "0c9aa8bb",
   "metadata": {},
   "source": [
    "## Question 2"
   ]
  },
  {
   "cell_type": "code",
   "execution_count": 14,
   "id": "d551630e",
   "metadata": {},
   "outputs": [],
   "source": [
    "from spacy.matcher import PhraseMatcher"
   ]
  },
  {
   "cell_type": "code",
   "execution_count": 15,
   "id": "28906158",
   "metadata": {},
   "outputs": [],
   "source": [
    "matcher = PhraseMatcher(nlp.vocab)"
   ]
  },
  {
   "cell_type": "code",
   "execution_count": 16,
   "id": "a95929a7",
   "metadata": {},
   "outputs": [],
   "source": [
    "with open('/Users/oghenemaigaelebe/OneDrive/MASTERS/Text Mining/Assignment2.txt','r') as f:\n",
    "    doc1 = nlp(f.read())"
   ]
  },
  {
   "cell_type": "code",
   "execution_count": 17,
   "id": "918429af",
   "metadata": {},
   "outputs": [],
   "source": [
    "phrase_list = ['multitude of melancholy moments of malaise','Max made many memorable moments']"
   ]
  },
  {
   "cell_type": "code",
   "execution_count": 18,
   "id": "cd92dc2c",
   "metadata": {},
   "outputs": [],
   "source": [
    "phrase_patterns = [nlp(text) for text in phrase_list]"
   ]
  },
  {
   "cell_type": "code",
   "execution_count": 19,
   "id": "7581b3a1",
   "metadata": {},
   "outputs": [],
   "source": [
    "matcher.add('PP', None, *phrase_patterns)"
   ]
  },
  {
   "cell_type": "code",
   "execution_count": 20,
   "id": "773258cf",
   "metadata": {},
   "outputs": [],
   "source": [
    "matches = matcher(doc1)"
   ]
  },
  {
   "cell_type": "code",
   "execution_count": 21,
   "id": "aaaa1f83",
   "metadata": {},
   "outputs": [
    {
     "data": {
      "text/plain": [
       "[(1146170440868975927, 93, 98), (1146170440868975927, 105, 111)]"
      ]
     },
     "execution_count": 21,
     "metadata": {},
     "output_type": "execute_result"
    }
   ],
   "source": [
    "matches"
   ]
  },
  {
   "cell_type": "code",
   "execution_count": 22,
   "id": "46e89579",
   "metadata": {},
   "outputs": [
    {
     "name": "stdout",
     "output_type": "stream",
     "text": [
      "1146170440868975927 PP 93 98 Max made many memorable moments\n",
      "1146170440868975927 PP 105 111 multitude of melancholy moments of malaise\n"
     ]
    }
   ],
   "source": [
    "for match_id, start,end in matches:\n",
    "    string_id = nlp.vocab.strings[match_id]\n",
    "    span=doc1[start:end]\n",
    "    print(match_id,string_id,start,end,span.text)"
   ]
  },
  {
   "cell_type": "markdown",
   "id": "79cfe43b",
   "metadata": {},
   "source": [
    "## Second Trial"
   ]
  },
  {
   "cell_type": "code",
   "execution_count": 25,
   "id": "9f6ac983",
   "metadata": {},
   "outputs": [],
   "source": [
    "with open('/Users/oghenemaigaelebe/OneDrive/MASTERS/Text Mining/Assignment2.txt','r') as f:\n",
    "    doc3 = nlp(f.read())"
   ]
  },
  {
   "cell_type": "code",
   "execution_count": 26,
   "id": "fde272ec",
   "metadata": {},
   "outputs": [],
   "source": [
    "def Iteration_Detection():\n",
    "    listC = []\n",
    "    doc3.sents # founding sentence from text\n",
    "    for dc in doc3.sents:\n",
    "        fw = \"\"\n",
    "        c0 = 0 # This variable is to check the valid word count\n",
    "        c1 = 0 # This variable is to check the word with common first letter\n",
    "        for w in dc:\n",
    "            if w.pos_ != 'ADP' and w.pos_ != 'PRON' and w.pos_ != 'PUNCT' and w.pos_!=\"DET\" and w.pos_ !=\"SPACE\":\n",
    "# Do not take preposition\n",
    "                    c0 =c0+1\n",
    "                    if fw == \"\":\n",
    "# Store first letter\n",
    "                        fw = w.prefix_.lower()\n",
    "                        c1 = c1+1\n",
    "                    elif(fw == w.prefix_.lower()):\n",
    "                        c1 = c1+1\n",
    "        if c0==c1 and c0!=0:\n",
    "# If total valid words and words with common first letter are same\n",
    "# then that sentence is Alliteration, so storing in list\n",
    "            listC.append(dc)\n",
    "    return listC"
   ]
  },
  {
   "cell_type": "code",
   "execution_count": 27,
   "id": "c70f21b3",
   "metadata": {},
   "outputs": [
    {
     "data": {
      "text/plain": [
       "[ Max made many memorable moments, making them miss him in a multitude of melancholy moments of malaise.]"
      ]
     },
     "execution_count": 27,
     "metadata": {},
     "output_type": "execute_result"
    }
   ],
   "source": [
    "Iteration_Detection()"
   ]
  },
  {
   "cell_type": "code",
   "execution_count": null,
   "id": "d1772015",
   "metadata": {},
   "outputs": [],
   "source": []
  }
 ],
 "metadata": {
  "kernelspec": {
   "display_name": "Python 3 (ipykernel)",
   "language": "python",
   "name": "python3"
  },
  "language_info": {
   "codemirror_mode": {
    "name": "ipython",
    "version": 3
   },
   "file_extension": ".py",
   "mimetype": "text/x-python",
   "name": "python",
   "nbconvert_exporter": "python",
   "pygments_lexer": "ipython3",
   "version": "3.7.11"
  }
 },
 "nbformat": 4,
 "nbformat_minor": 5
}
