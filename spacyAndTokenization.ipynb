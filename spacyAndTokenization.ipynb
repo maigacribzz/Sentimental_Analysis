{
 "cells": [
  {
   "cell_type": "code",
   "execution_count": 1,
   "id": "f1215f84",
   "metadata": {},
   "outputs": [],
   "source": [
    "import spacy"
   ]
  },
  {
   "cell_type": "code",
   "execution_count": 2,
   "id": "36acd3f7",
   "metadata": {},
   "outputs": [],
   "source": [
    "nlp = spacy.load('en_core_web_sm')"
   ]
  },
  {
   "cell_type": "code",
   "execution_count": 39,
   "id": "5ce977c8",
   "metadata": {},
   "outputs": [],
   "source": [
    "text = 'Natural language processing (NLP) is a subfield of linguistics whle we are processing things, computer science, and artificial, Apple ,Microsoft, Grand Canyon intelligence concerned with the interactions between computers and human language, in particular how to program computers to process and analyze large amounts of natural language data. The goal is a computer capable of \"understanding\" the contents of documents, including the contextual nuances of the language within them. The technology can then accurately extract information and insights contained in the documents as well as categorize and organize the documents themselves.'"
   ]
  },
  {
   "cell_type": "code",
   "execution_count": 40,
   "id": "9ba1b91e",
   "metadata": {},
   "outputs": [],
   "source": [
    "doc = nlp(text)"
   ]
  },
  {
   "cell_type": "code",
   "execution_count": 41,
   "id": "769d7d06",
   "metadata": {},
   "outputs": [
    {
     "data": {
      "text/plain": [
       "Natural language processing (NLP) is a subfield of linguistics whle we are processing things, computer science, and artificial, sex, Apple ,Microsoft, Grand Canyon intelligence concerned with the interactions between computers and human language, in particular how to program computers to process and analyze large amounts of natural language data. The goal is a computer capable of \"understanding\" the contents of documents, including the contextual nuances of the language within them. The technology can then accurately extract information and insights contained in the documents as well as categorize and organize the documents themselves."
      ]
     },
     "execution_count": 41,
     "metadata": {},
     "output_type": "execute_result"
    }
   ],
   "source": [
    "doc"
   ]
  },
  {
   "cell_type": "code",
   "execution_count": 42,
   "id": "32d9854f",
   "metadata": {},
   "outputs": [
    {
     "data": {
      "text/plain": [
       "spacy.tokens.doc.Doc"
      ]
     },
     "execution_count": 42,
     "metadata": {},
     "output_type": "execute_result"
    }
   ],
   "source": [
    "type(doc)"
   ]
  },
  {
   "cell_type": "code",
   "execution_count": 43,
   "id": "0f242f45",
   "metadata": {},
   "outputs": [
    {
     "name": "stdout",
     "output_type": "stream",
     "text": [
      "Natural: ADJ, amod: adjectival modifier, natural, Xxxxx\n",
      "language: NOUN, compound: compound, language, xxxx\n",
      "processing: NOUN, nsubj: nominal subject, processing, xxxx\n",
      "(: PUNCT, punct: punctuation, (, (\n",
      "NLP: NOUN, appos: appositional modifier, nlp, XXX\n",
      "): PUNCT, punct: punctuation, ), )\n",
      "is: AUX, ROOT: None, be, xx\n",
      "a: DET, det: determiner, a, x\n",
      "subfield: NOUN, attr: attribute, subfield, xxxx\n",
      "of: ADP, prep: prepositional modifier, of, xx\n",
      "linguistics: NOUN, pobj: object of preposition, linguistic, xxxx\n",
      "whle: ADV, acomp: adjectival complement, whle, xxxx\n",
      "we: PRON, nsubj: nominal subject, we, xx\n",
      "are: AUX, aux: auxiliary, be, xxx\n",
      "processing: VERB, ccomp: clausal complement, process, xxxx\n",
      "things: NOUN, dobj: direct object, thing, xxxx\n",
      ",: PUNCT, punct: punctuation, ,, ,\n",
      "computer: NOUN, compound: compound, computer, xxxx\n",
      "science: NOUN, conj: conjunct, science, xxxx\n",
      ",: PUNCT, punct: punctuation, ,, ,\n",
      "and: CCONJ, cc: coordinating conjunction, and, xxx\n",
      "artificial: NOUN, conj: conjunct, artificial, xxxx\n",
      ",: PUNCT, punct: punctuation, ,, ,\n",
      "sex: NOUN, conj: conjunct, sex, xxx\n",
      ",: PUNCT, punct: punctuation, ,, ,\n",
      "Apple: PROPN, conj: conjunct, Apple, Xxxxx\n",
      ",: PUNCT, punct: punctuation, ,, ,\n",
      "Microsoft: PROPN, conj: conjunct, Microsoft, Xxxxx\n",
      ",: PUNCT, punct: punctuation, ,, ,\n",
      "Grand: PROPN, compound: compound, Grand, Xxxxx\n",
      "Canyon: PROPN, compound: compound, Canyon, Xxxxx\n",
      "intelligence: NOUN, conj: conjunct, intelligence, xxxx\n",
      "concerned: VERB, advcl: adverbial clause modifier, concern, xxxx\n",
      "with: ADP, prep: prepositional modifier, with, xxxx\n",
      "the: DET, det: determiner, the, xxx\n",
      "interactions: NOUN, pobj: object of preposition, interaction, xxxx\n",
      "between: ADP, prep: prepositional modifier, between, xxxx\n",
      "computers: NOUN, pobj: object of preposition, computer, xxxx\n",
      "and: CCONJ, cc: coordinating conjunction, and, xxx\n",
      "human: ADJ, amod: adjectival modifier, human, xxxx\n",
      "language: NOUN, conj: conjunct, language, xxxx\n",
      ",: PUNCT, punct: punctuation, ,, ,\n",
      "in: ADP, prep: prepositional modifier, in, xx\n",
      "particular: ADJ, amod: adjectival modifier, particular, xxxx\n",
      "how: ADV, advmod: adverbial modifier, how, xxx\n",
      "to: PART, aux: auxiliary, to, xx\n",
      "program: VERB, advcl: adverbial clause modifier, program, xxxx\n",
      "computers: NOUN, dobj: direct object, computer, xxxx\n",
      "to: PART, aux: auxiliary, to, xx\n",
      "process: VERB, xcomp: open clausal complement, process, xxxx\n",
      "and: CCONJ, cc: coordinating conjunction, and, xxx\n",
      "analyze: VERB, conj: conjunct, analyze, xxxx\n",
      "large: ADJ, amod: adjectival modifier, large, xxxx\n",
      "amounts: NOUN, dobj: direct object, amount, xxxx\n",
      "of: ADP, prep: prepositional modifier, of, xx\n",
      "natural: ADJ, amod: adjectival modifier, natural, xxxx\n",
      "language: NOUN, compound: compound, language, xxxx\n",
      "data: NOUN, pobj: object of preposition, datum, xxxx\n",
      ".: PUNCT, punct: punctuation, ., .\n",
      "The: DET, det: determiner, the, Xxx\n",
      "goal: NOUN, nsubj: nominal subject, goal, xxxx\n",
      "is: AUX, ROOT: None, be, xx\n",
      "a: DET, det: determiner, a, x\n",
      "computer: NOUN, attr: attribute, computer, xxxx\n",
      "capable: ADJ, amod: adjectival modifier, capable, xxxx\n",
      "of: ADP, prep: prepositional modifier, of, xx\n",
      "\": PUNCT, punct: punctuation, \", \"\n",
      "understanding: VERB, pcomp: complement of preposition, understand, xxxx\n",
      "\": PUNCT, punct: punctuation, \", \"\n",
      "the: DET, det: determiner, the, xxx\n",
      "contents: NOUN, dobj: direct object, content, xxxx\n",
      "of: ADP, prep: prepositional modifier, of, xx\n",
      "documents: NOUN, pobj: object of preposition, document, xxxx\n",
      ",: PUNCT, punct: punctuation, ,, ,\n",
      "including: VERB, prep: prepositional modifier, include, xxxx\n",
      "the: DET, det: determiner, the, xxx\n",
      "contextual: ADJ, amod: adjectival modifier, contextual, xxxx\n",
      "nuances: NOUN, pobj: object of preposition, nuance, xxxx\n",
      "of: ADP, prep: prepositional modifier, of, xx\n",
      "the: DET, det: determiner, the, xxx\n",
      "language: NOUN, pobj: object of preposition, language, xxxx\n",
      "within: ADP, prep: prepositional modifier, within, xxxx\n",
      "them: PRON, pobj: object of preposition, they, xxxx\n",
      ".: PUNCT, punct: punctuation, ., .\n",
      "The: DET, det: determiner, the, Xxx\n",
      "technology: NOUN, nsubj: nominal subject, technology, xxxx\n",
      "can: AUX, aux: auxiliary, can, xxx\n",
      "then: ADV, advmod: adverbial modifier, then, xxxx\n",
      "accurately: ADV, advmod: adverbial modifier, accurately, xxxx\n",
      "extract: VERB, ROOT: None, extract, xxxx\n",
      "information: NOUN, dobj: direct object, information, xxxx\n",
      "and: CCONJ, cc: coordinating conjunction, and, xxx\n",
      "insights: NOUN, conj: conjunct, insight, xxxx\n",
      "contained: VERB, acl: clausal modifier of noun (adjectival clause), contain, xxxx\n",
      "in: ADP, prep: prepositional modifier, in, xx\n",
      "the: DET, det: determiner, the, xxx\n",
      "documents: NOUN, pobj: object of preposition, document, xxxx\n",
      "as: ADV, advmod: adverbial modifier, as, xx\n",
      "well: ADV, advmod: adverbial modifier, well, xxxx\n",
      "as: ADP, cc: coordinating conjunction, as, xx\n",
      "categorize: NOUN, conj: conjunct, categorize, xxxx\n",
      "and: CCONJ, cc: coordinating conjunction, and, xxx\n",
      "organize: VERB, conj: conjunct, organize, xxxx\n",
      "the: DET, det: determiner, the, xxx\n",
      "documents: NOUN, dobj: direct object, document, xxxx\n",
      "themselves: PRON, npadvmod: noun phrase as adverbial modifier, themselves, xxxx\n",
      ".: PUNCT, punct: punctuation, ., .\n"
     ]
    }
   ],
   "source": [
    "#POS: Part of Speech, dep:dependicies   and ner: named entity recognitions\n",
    "for t in doc:\n",
    "    print(f'{t}: {t.pos_}, {t.dep_}: {spacy.explain(t.dep_)}, {t.lemma_}, {t.shape_}')"
   ]
  },
  {
   "cell_type": "code",
   "execution_count": 44,
   "id": "c3da5849",
   "metadata": {},
   "outputs": [
    {
     "data": {
      "text/plain": [
       "tuple"
      ]
     },
     "execution_count": 44,
     "metadata": {},
     "output_type": "execute_result"
    }
   ],
   "source": [
    "type(doc.ents)"
   ]
  },
  {
   "cell_type": "code",
   "execution_count": 45,
   "id": "8db3e79d",
   "metadata": {},
   "outputs": [
    {
     "name": "stdout",
     "output_type": "stream",
     "text": [
      "Apple: ORG, Companies, agencies, institutions, etc.\n",
      "Microsoft: ORG, Companies, agencies, institutions, etc.\n",
      "Grand Canyon: GPE, Countries, cities, states\n"
     ]
    }
   ],
   "source": [
    "for ent in doc.ents:\n",
    "    print(f'{ent.text}: {ent.label_}, {spacy.explain(ent.label_)}')"
   ]
  },
  {
   "cell_type": "code",
   "execution_count": null,
   "id": "f0d71d9b",
   "metadata": {},
   "outputs": [],
   "source": []
  }
 ],
 "metadata": {
  "kernelspec": {
   "display_name": "Python 3 (ipykernel)",
   "language": "python",
   "name": "python3"
  },
  "language_info": {
   "codemirror_mode": {
    "name": "ipython",
    "version": 3
   },
   "file_extension": ".py",
   "mimetype": "text/x-python",
   "name": "python",
   "nbconvert_exporter": "python",
   "pygments_lexer": "ipython3",
   "version": "3.7.11"
  }
 },
 "nbformat": 4,
 "nbformat_minor": 5
}
