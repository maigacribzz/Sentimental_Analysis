{
 "cells": [
  {
   "cell_type": "code",
   "execution_count": 1,
   "id": "bb3c572a",
   "metadata": {},
   "outputs": [],
   "source": [
    "import pandas as pd"
   ]
  },
  {
   "cell_type": "code",
   "execution_count": 2,
   "id": "70e85f3c",
   "metadata": {},
   "outputs": [],
   "source": [
    "df = pd.read_csv('eng_dataset.csv')"
   ]
  },
  {
   "cell_type": "code",
   "execution_count": 3,
   "id": "adbcf162",
   "metadata": {},
   "outputs": [
    {
     "data": {
      "text/html": [
       "<div>\n",
       "<style scoped>\n",
       "    .dataframe tbody tr th:only-of-type {\n",
       "        vertical-align: middle;\n",
       "    }\n",
       "\n",
       "    .dataframe tbody tr th {\n",
       "        vertical-align: top;\n",
       "    }\n",
       "\n",
       "    .dataframe thead th {\n",
       "        text-align: right;\n",
       "    }\n",
       "</style>\n",
       "<table border=\"1\" class=\"dataframe\">\n",
       "  <thead>\n",
       "    <tr style=\"text-align: right;\">\n",
       "      <th></th>\n",
       "      <th>ID</th>\n",
       "      <th>sentiment</th>\n",
       "      <th>content</th>\n",
       "    </tr>\n",
       "  </thead>\n",
       "  <tbody>\n",
       "    <tr>\n",
       "      <th>0</th>\n",
       "      <td>10941</td>\n",
       "      <td>anger</td>\n",
       "      <td>At the point today where if someone says somet...</td>\n",
       "    </tr>\n",
       "    <tr>\n",
       "      <th>1</th>\n",
       "      <td>10942</td>\n",
       "      <td>anger</td>\n",
       "      <td>@CorningFootball  IT'S GAME DAY!!!!      T MIN...</td>\n",
       "    </tr>\n",
       "    <tr>\n",
       "      <th>2</th>\n",
       "      <td>10943</td>\n",
       "      <td>anger</td>\n",
       "      <td>This game has pissed me off more than any othe...</td>\n",
       "    </tr>\n",
       "    <tr>\n",
       "      <th>3</th>\n",
       "      <td>10944</td>\n",
       "      <td>anger</td>\n",
       "      <td>@spamvicious I've just found out it's Candice ...</td>\n",
       "    </tr>\n",
       "    <tr>\n",
       "      <th>4</th>\n",
       "      <td>10945</td>\n",
       "      <td>anger</td>\n",
       "      <td>@moocowward @mrsajhargreaves @Melly77 @GaryBar...</td>\n",
       "    </tr>\n",
       "  </tbody>\n",
       "</table>\n",
       "</div>"
      ],
      "text/plain": [
       "      ID sentiment                                            content\n",
       "0  10941     anger  At the point today where if someone says somet...\n",
       "1  10942     anger  @CorningFootball  IT'S GAME DAY!!!!      T MIN...\n",
       "2  10943     anger  This game has pissed me off more than any othe...\n",
       "3  10944     anger  @spamvicious I've just found out it's Candice ...\n",
       "4  10945     anger  @moocowward @mrsajhargreaves @Melly77 @GaryBar..."
      ]
     },
     "execution_count": 3,
     "metadata": {},
     "output_type": "execute_result"
    }
   ],
   "source": [
    "df.head()"
   ]
  },
  {
   "cell_type": "code",
   "execution_count": 4,
   "id": "6515b3d4",
   "metadata": {},
   "outputs": [
    {
     "name": "stdout",
     "output_type": "stream",
     "text": [
      "<class 'pandas.core.frame.DataFrame'>\n",
      "RangeIndex: 7102 entries, 0 to 7101\n",
      "Data columns (total 3 columns):\n",
      " #   Column     Non-Null Count  Dtype \n",
      "---  ------     --------------  ----- \n",
      " 0   ID         7102 non-null   int64 \n",
      " 1   sentiment  7102 non-null   object\n",
      " 2   content    7102 non-null   object\n",
      "dtypes: int64(1), object(2)\n",
      "memory usage: 166.6+ KB\n"
     ]
    }
   ],
   "source": [
    "df.info()"
   ]
  },
  {
   "cell_type": "code",
   "execution_count": 5,
   "id": "cd248994",
   "metadata": {},
   "outputs": [
    {
     "data": {
      "text/plain": [
       "pandas.core.frame.DataFrame"
      ]
     },
     "execution_count": 5,
     "metadata": {},
     "output_type": "execute_result"
    }
   ],
   "source": [
    "type(df)"
   ]
  },
  {
   "cell_type": "code",
   "execution_count": 6,
   "id": "107a2be2",
   "metadata": {},
   "outputs": [],
   "source": [
    "from sklearn.feature_extraction.text import CountVectorizer"
   ]
  },
  {
   "cell_type": "code",
   "execution_count": 68,
   "id": "efdf0264",
   "metadata": {},
   "outputs": [],
   "source": [
    "#selecting our features where maximum 90% of the things in the target and also minimum of 10 times mentioned\n",
    "cv = CountVectorizer(max_df=0.9,min_df=10,stop_words='english')"
   ]
  },
  {
   "cell_type": "code",
   "execution_count": 69,
   "id": "6817b65f",
   "metadata": {},
   "outputs": [],
   "source": [
    "dtm = cv.fit_transform(df['content'])"
   ]
  },
  {
   "cell_type": "code",
   "execution_count": 70,
   "id": "e0ba4871",
   "metadata": {},
   "outputs": [
    {
     "data": {
      "text/plain": [
       "<7102x1001 sparse matrix of type '<class 'numpy.int64'>'\n",
       "\twith 32255 stored elements in Compressed Sparse Row format>"
      ]
     },
     "execution_count": 70,
     "metadata": {},
     "output_type": "execute_result"
    }
   ],
   "source": [
    "dtm"
   ]
  },
  {
   "cell_type": "code",
   "execution_count": 71,
   "id": "3eadbb5c",
   "metadata": {},
   "outputs": [
    {
     "data": {
      "text/plain": [
       "<1x1001 sparse matrix of type '<class 'numpy.int64'>'\n",
       "\twith 6 stored elements in Compressed Sparse Row format>"
      ]
     },
     "execution_count": 71,
     "metadata": {},
     "output_type": "execute_result"
    }
   ],
   "source": [
    "dtm[0]"
   ]
  },
  {
   "cell_type": "code",
   "execution_count": 72,
   "id": "50986fff",
   "metadata": {},
   "outputs": [],
   "source": [
    "from sklearn.decomposition import LatentDirichletAllocation"
   ]
  },
  {
   "cell_type": "code",
   "execution_count": 73,
   "id": "ebfacdea",
   "metadata": {},
   "outputs": [],
   "source": [
    "LDA = LatentDirichletAllocation(n_components=4,random_state=42)"
   ]
  },
  {
   "cell_type": "code",
   "execution_count": 74,
   "id": "8fce8636",
   "metadata": {},
   "outputs": [
    {
     "data": {
      "text/plain": [
       "LatentDirichletAllocation(n_components=4, random_state=42)"
      ]
     },
     "execution_count": 74,
     "metadata": {},
     "output_type": "execute_result"
    }
   ],
   "source": [
    "LDA.fit(dtm)"
   ]
  },
  {
   "cell_type": "code",
   "execution_count": 75,
   "id": "cc15593f",
   "metadata": {},
   "outputs": [
    {
     "data": {
      "text/plain": [
       "1001"
      ]
     },
     "execution_count": 75,
     "metadata": {},
     "output_type": "execute_result"
    }
   ],
   "source": [
    "len(cv.get_feature_names_out())"
   ]
  },
  {
   "cell_type": "code",
   "execution_count": 76,
   "id": "c057b87c",
   "metadata": {},
   "outputs": [],
   "source": [
    "import random"
   ]
  },
  {
   "cell_type": "code",
   "execution_count": 77,
   "id": "284e8635",
   "metadata": {},
   "outputs": [
    {
     "name": "stdout",
     "output_type": "stream",
     "text": [
      "hurts\n",
      "took\n",
      "living\n",
      "anger\n",
      "ask\n",
      "tired\n",
      "smile\n",
      "hand\n",
      "yo\n",
      "response\n"
     ]
    }
   ],
   "source": [
    "for i in range(10):\n",
    "    rand_wrd = random.randint(0,1000)\n",
    "    print(cv.get_feature_names_out()[rand_wrd])"
   ]
  },
  {
   "cell_type": "code",
   "execution_count": 78,
   "id": "a976c34f",
   "metadata": {},
   "outputs": [
    {
     "data": {
      "text/plain": [
       "4"
      ]
     },
     "execution_count": 78,
     "metadata": {},
     "output_type": "execute_result"
    }
   ],
   "source": [
    "len(LDA.components_)"
   ]
  },
  {
   "cell_type": "markdown",
   "id": "a83bd9cf",
   "metadata": {},
   "source": [
    "## For Topic 0"
   ]
  },
  {
   "cell_type": "code",
   "execution_count": 79,
   "id": "949b3546",
   "metadata": {},
   "outputs": [
    {
     "data": {
      "text/plain": [
       "array([22.72692355,  0.25635503,  9.04494091, ...,  0.25053454,\n",
       "        0.25290465, 14.86329989])"
      ]
     },
     "execution_count": 79,
     "metadata": {},
     "output_type": "execute_result"
    }
   ],
   "source": [
    "LDA.components_[0]"
   ]
  },
  {
   "cell_type": "code",
   "execution_count": 80,
   "id": "ca68b651",
   "metadata": {},
   "outputs": [
    {
     "data": {
      "text/plain": [
       "1001"
      ]
     },
     "execution_count": 80,
     "metadata": {},
     "output_type": "execute_result"
    }
   ],
   "source": [
    "#length of each of the 4 components\n",
    "len(LDA.components_[0])"
   ]
  },
  {
   "cell_type": "code",
   "execution_count": 81,
   "id": "d3da600d",
   "metadata": {},
   "outputs": [],
   "source": [
    "sin_topic = LDA.components_[0]"
   ]
  },
  {
   "cell_type": "code",
   "execution_count": 82,
   "id": "f005037c",
   "metadata": {},
   "outputs": [
    {
     "data": {
      "text/plain": [
       "array([536, 579, 108, ..., 350, 635, 462])"
      ]
     },
     "execution_count": 82,
     "metadata": {},
     "output_type": "execute_result"
    }
   ],
   "source": [
    "#Number of times argument is being mentioned.\n",
    "sin_topic.argsort()"
   ]
  },
  {
   "cell_type": "code",
   "execution_count": 83,
   "id": "814be9db",
   "metadata": {},
   "outputs": [
    {
     "name": "stdout",
     "output_type": "stream",
     "text": [
      "least rep: 0.25003340619374426\n",
      "Most rep: 210.61389558346852\n"
     ]
    }
   ],
   "source": [
    "#word with least representation\n",
    "print(f'least rep: {sin_topic[579]}')\n",
    "\n",
    "#word with most representation\n",
    "print(f'Most rep: {sin_topic[462]}')"
   ]
  },
  {
   "cell_type": "code",
   "execution_count": 84,
   "id": "5ca7b67e",
   "metadata": {},
   "outputs": [],
   "source": [
    "#Top 10 words\n",
    "top10wrds = sin_topic.argsort()[-10:]"
   ]
  },
  {
   "cell_type": "code",
   "execution_count": 85,
   "id": "7b1d1689",
   "metadata": {},
   "outputs": [
    {
     "name": "stdout",
     "output_type": "stream",
     "text": [
      "want\n",
      "time\n",
      "life\n",
      "new\n",
      "really\n",
      "happy\n",
      "day\n",
      "good\n",
      "people\n",
      "just\n"
     ]
    }
   ],
   "source": [
    "for index in top10wrds:\n",
    "    print(cv.get_feature_names_out()[index])"
   ]
  },
  {
   "cell_type": "markdown",
   "id": "3b78ea51",
   "metadata": {},
   "source": [
    "## For Each Topic"
   ]
  },
  {
   "cell_type": "code",
   "execution_count": 86,
   "id": "d6a6c64e",
   "metadata": {},
   "outputs": [
    {
     "name": "stdout",
     "output_type": "stream",
     "text": [
      "Topic 0 top 15 words\n",
      "['angry', 'afraid', 'sober', 'nightmare', 'nervous', 'want', 'time', 'life', 'new', 'really', 'happy', 'day', 'good', 'people', 'just']\n",
      "\n",
      "\n",
      "Topic 1 top 15 words\n",
      "['week', 'people', 'way', 'life', 'love', 'depression', 'anxiety', 'start', 'going', 'just', 'smile', 'feel', 'make', 'don', 'like']\n",
      "\n",
      "\n",
      "Topic 2 top 15 words\n",
      "['bully', 'did', 'man', 'anger', 'let', 'didn', 'terrorism', 'need', 'fear', 'today', 'think', 'just', 'like', 'know', 'don']\n",
      "\n",
      "\n",
      "Topic 3 top 15 words\n",
      "['ly', 'broadcast', 'glee', 'home', 'lively', 'just', 'hilarious', 'time', 'live', 'amazing', 'lost', 've', 'watch', 'amp', 'ðÿ']\n",
      "\n",
      "\n"
     ]
    }
   ],
   "source": [
    "#go through anything thats immutable\n",
    "for index, topic in enumerate(LDA.components_):\n",
    "    print(f'Topic {index} top 15 words')\n",
    "    print([cv.get_feature_names_out()[i] for i in topic.argsort()[-15:]])\n",
    "    print('\\n')"
   ]
  },
  {
   "cell_type": "code",
   "execution_count": 87,
   "id": "c7f946f2",
   "metadata": {},
   "outputs": [
    {
     "data": {
      "text/plain": [
       "(7102, 1001)"
      ]
     },
     "execution_count": 87,
     "metadata": {},
     "output_type": "execute_result"
    }
   ],
   "source": [
    "dtm.shape"
   ]
  },
  {
   "cell_type": "code",
   "execution_count": 88,
   "id": "2c4b4c49",
   "metadata": {},
   "outputs": [
    {
     "data": {
      "text/plain": [
       "<7102x1001 sparse matrix of type '<class 'numpy.int64'>'\n",
       "\twith 32255 stored elements in Compressed Sparse Row format>"
      ]
     },
     "execution_count": 88,
     "metadata": {},
     "output_type": "execute_result"
    }
   ],
   "source": [
    "dtm"
   ]
  },
  {
   "cell_type": "code",
   "execution_count": 89,
   "id": "90ad81be",
   "metadata": {},
   "outputs": [
    {
     "data": {
      "text/plain": [
       "7102"
      ]
     },
     "execution_count": 89,
     "metadata": {},
     "output_type": "execute_result"
    }
   ],
   "source": [
    "len(df)"
   ]
  },
  {
   "cell_type": "code",
   "execution_count": 90,
   "id": "ac252d3b",
   "metadata": {},
   "outputs": [],
   "source": [
    "topic_results = LDA.transform(dtm)"
   ]
  },
  {
   "cell_type": "code",
   "execution_count": 91,
   "id": "337da499",
   "metadata": {},
   "outputs": [
    {
     "data": {
      "text/plain": [
       "(7102, 4)"
      ]
     },
     "execution_count": 91,
     "metadata": {},
     "output_type": "execute_result"
    }
   ],
   "source": [
    "topic_results.shape"
   ]
  },
  {
   "cell_type": "code",
   "execution_count": 103,
   "id": "78fb43f1",
   "metadata": {},
   "outputs": [
    {
     "data": {
      "text/plain": [
       "array([0.04, 0.24, 0.69, 0.04])"
      ]
     },
     "execution_count": 103,
     "metadata": {},
     "output_type": "execute_result"
    }
   ],
   "source": [
    "topic_results[0].round(2)"
   ]
  },
  {
   "cell_type": "code",
   "execution_count": 104,
   "id": "c3b3d482",
   "metadata": {},
   "outputs": [
    {
     "data": {
      "text/plain": [
       "2"
      ]
     },
     "execution_count": 104,
     "metadata": {},
     "output_type": "execute_result"
    }
   ],
   "source": [
    "topic_results[0].argmax()"
   ]
  },
  {
   "cell_type": "code",
   "execution_count": 105,
   "id": "f0c81106",
   "metadata": {},
   "outputs": [
    {
     "data": {
      "text/html": [
       "<div>\n",
       "<style scoped>\n",
       "    .dataframe tbody tr th:only-of-type {\n",
       "        vertical-align: middle;\n",
       "    }\n",
       "\n",
       "    .dataframe tbody tr th {\n",
       "        vertical-align: top;\n",
       "    }\n",
       "\n",
       "    .dataframe thead th {\n",
       "        text-align: right;\n",
       "    }\n",
       "</style>\n",
       "<table border=\"1\" class=\"dataframe\">\n",
       "  <thead>\n",
       "    <tr style=\"text-align: right;\">\n",
       "      <th></th>\n",
       "      <th>ID</th>\n",
       "      <th>sentiment</th>\n",
       "      <th>content</th>\n",
       "    </tr>\n",
       "  </thead>\n",
       "  <tbody>\n",
       "    <tr>\n",
       "      <th>0</th>\n",
       "      <td>10941</td>\n",
       "      <td>anger</td>\n",
       "      <td>At the point today where if someone says somet...</td>\n",
       "    </tr>\n",
       "    <tr>\n",
       "      <th>1</th>\n",
       "      <td>10942</td>\n",
       "      <td>anger</td>\n",
       "      <td>@CorningFootball  IT'S GAME DAY!!!!      T MIN...</td>\n",
       "    </tr>\n",
       "    <tr>\n",
       "      <th>2</th>\n",
       "      <td>10943</td>\n",
       "      <td>anger</td>\n",
       "      <td>This game has pissed me off more than any othe...</td>\n",
       "    </tr>\n",
       "    <tr>\n",
       "      <th>3</th>\n",
       "      <td>10944</td>\n",
       "      <td>anger</td>\n",
       "      <td>@spamvicious I've just found out it's Candice ...</td>\n",
       "    </tr>\n",
       "    <tr>\n",
       "      <th>4</th>\n",
       "      <td>10945</td>\n",
       "      <td>anger</td>\n",
       "      <td>@moocowward @mrsajhargreaves @Melly77 @GaryBar...</td>\n",
       "    </tr>\n",
       "  </tbody>\n",
       "</table>\n",
       "</div>"
      ],
      "text/plain": [
       "      ID sentiment                                            content\n",
       "0  10941     anger  At the point today where if someone says somet...\n",
       "1  10942     anger  @CorningFootball  IT'S GAME DAY!!!!      T MIN...\n",
       "2  10943     anger  This game has pissed me off more than any othe...\n",
       "3  10944     anger  @spamvicious I've just found out it's Candice ...\n",
       "4  10945     anger  @moocowward @mrsajhargreaves @Melly77 @GaryBar..."
      ]
     },
     "execution_count": 105,
     "metadata": {},
     "output_type": "execute_result"
    }
   ],
   "source": [
    "df.head()"
   ]
  },
  {
   "cell_type": "code",
   "execution_count": 107,
   "id": "60c7adc7",
   "metadata": {},
   "outputs": [
    {
     "data": {
      "text/plain": [
       "array([2, 0, 0, ..., 1, 0, 1])"
      ]
     },
     "execution_count": 107,
     "metadata": {},
     "output_type": "execute_result"
    }
   ],
   "source": [
    "topic_results.argmax(axis=1)"
   ]
  },
  {
   "cell_type": "code",
   "execution_count": 108,
   "id": "ead98f82",
   "metadata": {},
   "outputs": [],
   "source": [
    "df['topic']= topic_results.argmax(axis=1)"
   ]
  },
  {
   "cell_type": "code",
   "execution_count": 109,
   "id": "a9c23146",
   "metadata": {},
   "outputs": [
    {
     "data": {
      "text/html": [
       "<div>\n",
       "<style scoped>\n",
       "    .dataframe tbody tr th:only-of-type {\n",
       "        vertical-align: middle;\n",
       "    }\n",
       "\n",
       "    .dataframe tbody tr th {\n",
       "        vertical-align: top;\n",
       "    }\n",
       "\n",
       "    .dataframe thead th {\n",
       "        text-align: right;\n",
       "    }\n",
       "</style>\n",
       "<table border=\"1\" class=\"dataframe\">\n",
       "  <thead>\n",
       "    <tr style=\"text-align: right;\">\n",
       "      <th></th>\n",
       "      <th>ID</th>\n",
       "      <th>sentiment</th>\n",
       "      <th>content</th>\n",
       "      <th>topic</th>\n",
       "    </tr>\n",
       "  </thead>\n",
       "  <tbody>\n",
       "    <tr>\n",
       "      <th>0</th>\n",
       "      <td>10941</td>\n",
       "      <td>anger</td>\n",
       "      <td>At the point today where if someone says somet...</td>\n",
       "      <td>2</td>\n",
       "    </tr>\n",
       "    <tr>\n",
       "      <th>1</th>\n",
       "      <td>10942</td>\n",
       "      <td>anger</td>\n",
       "      <td>@CorningFootball  IT'S GAME DAY!!!!      T MIN...</td>\n",
       "      <td>0</td>\n",
       "    </tr>\n",
       "    <tr>\n",
       "      <th>2</th>\n",
       "      <td>10943</td>\n",
       "      <td>anger</td>\n",
       "      <td>This game has pissed me off more than any othe...</td>\n",
       "      <td>0</td>\n",
       "    </tr>\n",
       "    <tr>\n",
       "      <th>3</th>\n",
       "      <td>10944</td>\n",
       "      <td>anger</td>\n",
       "      <td>@spamvicious I've just found out it's Candice ...</td>\n",
       "      <td>3</td>\n",
       "    </tr>\n",
       "    <tr>\n",
       "      <th>4</th>\n",
       "      <td>10945</td>\n",
       "      <td>anger</td>\n",
       "      <td>@moocowward @mrsajhargreaves @Melly77 @GaryBar...</td>\n",
       "      <td>3</td>\n",
       "    </tr>\n",
       "    <tr>\n",
       "      <th>5</th>\n",
       "      <td>10946</td>\n",
       "      <td>anger</td>\n",
       "      <td>@moocowward @mrsajhargreaves @Melly77 @GaryBar...</td>\n",
       "      <td>2</td>\n",
       "    </tr>\n",
       "    <tr>\n",
       "      <th>6</th>\n",
       "      <td>10947</td>\n",
       "      <td>anger</td>\n",
       "      <td>wanna go home and focus up on this game . Don'...</td>\n",
       "      <td>1</td>\n",
       "    </tr>\n",
       "    <tr>\n",
       "      <th>7</th>\n",
       "      <td>10948</td>\n",
       "      <td>anger</td>\n",
       "      <td>@virginmedia I've been disconnected whilst on ...</td>\n",
       "      <td>3</td>\n",
       "    </tr>\n",
       "    <tr>\n",
       "      <th>8</th>\n",
       "      <td>10949</td>\n",
       "      <td>anger</td>\n",
       "      <td>@virginmedia I've been disconnected whilst on ...</td>\n",
       "      <td>3</td>\n",
       "    </tr>\n",
       "    <tr>\n",
       "      <th>9</th>\n",
       "      <td>10950</td>\n",
       "      <td>anger</td>\n",
       "      <td>I wanna see you smile I don't wanna see you ma...</td>\n",
       "      <td>1</td>\n",
       "    </tr>\n",
       "  </tbody>\n",
       "</table>\n",
       "</div>"
      ],
      "text/plain": [
       "      ID sentiment                                            content  topic\n",
       "0  10941     anger  At the point today where if someone says somet...      2\n",
       "1  10942     anger  @CorningFootball  IT'S GAME DAY!!!!      T MIN...      0\n",
       "2  10943     anger  This game has pissed me off more than any othe...      0\n",
       "3  10944     anger  @spamvicious I've just found out it's Candice ...      3\n",
       "4  10945     anger  @moocowward @mrsajhargreaves @Melly77 @GaryBar...      3\n",
       "5  10946     anger  @moocowward @mrsajhargreaves @Melly77 @GaryBar...      2\n",
       "6  10947     anger  wanna go home and focus up on this game . Don'...      1\n",
       "7  10948     anger  @virginmedia I've been disconnected whilst on ...      3\n",
       "8  10949     anger  @virginmedia I've been disconnected whilst on ...      3\n",
       "9  10950     anger  I wanna see you smile I don't wanna see you ma...      1"
      ]
     },
     "execution_count": 109,
     "metadata": {},
     "output_type": "execute_result"
    }
   ],
   "source": [
    "df.head(10)"
   ]
  },
  {
   "cell_type": "code",
   "execution_count": 110,
   "id": "20f15bec",
   "metadata": {},
   "outputs": [
    {
     "data": {
      "text/plain": [
       "2    1861\n",
       "0    1857\n",
       "1    1857\n",
       "3    1527\n",
       "Name: topic, dtype: int64"
      ]
     },
     "execution_count": 110,
     "metadata": {},
     "output_type": "execute_result"
    }
   ],
   "source": [
    "df['topic'].value_counts()"
   ]
  },
  {
   "cell_type": "code",
   "execution_count": 111,
   "id": "1ba0c94f",
   "metadata": {},
   "outputs": [
    {
     "data": {
      "text/plain": [
       "fear       2252\n",
       "anger      1701\n",
       "joy        1616\n",
       "sadness    1533\n",
       "Name: sentiment, dtype: int64"
      ]
     },
     "execution_count": 111,
     "metadata": {},
     "output_type": "execute_result"
    }
   ],
   "source": [
    "df['sentiment'].value_counts()"
   ]
  },
  {
   "cell_type": "code",
   "execution_count": 115,
   "id": "b205dbe0",
   "metadata": {},
   "outputs": [
    {
     "data": {
      "text/plain": [
       "[551, 618, 682, 401]"
      ]
     },
     "execution_count": 115,
     "metadata": {},
     "output_type": "execute_result"
    }
   ],
   "source": [
    "fear_topic_list = [0,0,0,0]\n",
    "for header,row in df.iterrows():\n",
    "    if row['sentiment']=='fear':\n",
    "        fear_topic_list[row['topic']] += 1\n",
    "        \n",
    "fear_topic_list"
   ]
  },
  {
   "cell_type": "code",
   "execution_count": 117,
   "id": "787e11d2",
   "metadata": {},
   "outputs": [
    {
     "data": {
      "text/plain": [
       "[432, 447, 380, 274]"
      ]
     },
     "execution_count": 117,
     "metadata": {},
     "output_type": "execute_result"
    }
   ],
   "source": [
    "sadness_topic_list = [0,0,0,0]\n",
    "for header,row in df.iterrows():\n",
    "    if row['sentiment']=='sadness':\n",
    "        sadness_topic_list[row['topic']] += 1\n",
    "        \n",
    "sadness_topic_list"
   ]
  },
  {
   "cell_type": "code",
   "execution_count": 118,
   "id": "eb9ebc10",
   "metadata": {},
   "outputs": [
    {
     "data": {
      "text/plain": [
       "[366, 413, 260, 577]"
      ]
     },
     "execution_count": 118,
     "metadata": {},
     "output_type": "execute_result"
    }
   ],
   "source": [
    "joy_topic_list = [0,0,0,0]\n",
    "for header,row in df.iterrows():\n",
    "    if row['sentiment']=='joy':\n",
    "        joy_topic_list[row['topic']] += 1\n",
    "        \n",
    "joy_topic_list"
   ]
  },
  {
   "cell_type": "code",
   "execution_count": null,
   "id": "ef298044",
   "metadata": {},
   "outputs": [],
   "source": []
  }
 ],
 "metadata": {
  "kernelspec": {
   "display_name": "Python 3 (ipykernel)",
   "language": "python",
   "name": "python3"
  },
  "language_info": {
   "codemirror_mode": {
    "name": "ipython",
    "version": 3
   },
   "file_extension": ".py",
   "mimetype": "text/x-python",
   "name": "python",
   "nbconvert_exporter": "python",
   "pygments_lexer": "ipython3",
   "version": "3.7.11"
  }
 },
 "nbformat": 4,
 "nbformat_minor": 5
}
