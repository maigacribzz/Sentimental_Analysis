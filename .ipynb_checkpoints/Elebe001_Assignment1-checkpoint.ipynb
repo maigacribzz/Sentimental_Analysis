{
 "cells": [
  {
   "cell_type": "code",
   "execution_count": 1,
   "id": "067d8fec",
   "metadata": {},
   "outputs": [],
   "source": [
    "import spacy \n",
    "nlp = spacy.load('en_core_web_sm')"
   ]
  },
  {
   "cell_type": "code",
   "execution_count": 193,
   "id": "30e2cce6",
   "metadata": {},
   "outputs": [],
   "source": [
    "from spacy.matcher import Matcher\n",
    "matcher = Matcher(nlp.vocab)"
   ]
  },
  {
   "cell_type": "code",
   "execution_count": 194,
   "id": "c86a8d83",
   "metadata": {},
   "outputs": [],
   "source": [
    "with open('/Users/PaulGee/Downloads/partsofspeechtext.txt','r') as f:\n",
    "    doc = nlp(f.read())"
   ]
  },
  {
   "cell_type": "code",
   "execution_count": 195,
   "id": "a86d9d9f",
   "metadata": {},
   "outputs": [
    {
     "name": "stdout",
     "output_type": "stream",
     "text": [
      "As John snuck up on his wife, he was as quiet as a mouse. Salley is a daisy and everybody likes her. She had been married to John for five years.  Marriage is a journey, but marriage to John is more exciting than most. Life with John was nothing if not exciting. But life wasn't a beach for the two.\n",
      "\n",
      "They had a great dog, Max, but death like a thief stole Max at a snail's pace.  Max made many memorable moments, making them miss him in a multitude of melancholy moments of malaise. Max once pulled the couple out of bed during a house fire, so the two could get to safety before the house became engulfed in flames. \n",
      "\n",
      "Yes, life is a fickle mistress for the young couple, but they soldier on. As John reaches out to startle Salley, she turned with the garden hose dousing him in water. Life ain't a peach, but the were as happy as a pig in mud.\n",
      "\n"
     ]
    }
   ],
   "source": [
    "print(doc)"
   ]
  },
  {
   "cell_type": "code",
   "execution_count": 196,
   "id": "61d37740",
   "metadata": {},
   "outputs": [
    {
     "data": {
      "text/plain": [
       "spacy.tokens.doc.Doc"
      ]
     },
     "execution_count": 196,
     "metadata": {},
     "output_type": "execute_result"
    }
   ],
   "source": [
    "type(doc)"
   ]
  },
  {
   "cell_type": "code",
   "execution_count": 197,
   "id": "22b06b03",
   "metadata": {},
   "outputs": [],
   "source": [
    "pattren1 = [{'POS':'NOUN'},{'LEMMA':'be'},{'LOWER':'a'},{'POS':'NOUN'}]\n",
    "pattren2 = [{'POS':'ADJ'},{'LEMMA':'as'},{'LOWER':'a'},{'POS':'NOUN'}]\n",
    "#pattren2 = [{'LEMMA': 'be'}, {'LOWER':'a'},{'POS':'NOUN'}]\n",
    "\n",
    "\n",
    "#pattren1 = [{'POS':'NOUN'}, {'LEMMA':'be'},{'LOWER':'a'},{'POS':'NOUN'}]\n",
    "#pattren2 = [{'POS':'ADJ'}, {'LEMMA':'as'},{'LOWER':'a'}, {'POS':'NOUN'}]\n",
    "pattren3 = [{'POS':'ADJ'}, {'LEMMA':'like'},{'LOWER':'a'}, {'POS':'NOUN'}]"
   ]
  },
  {
   "cell_type": "code",
   "execution_count": 198,
   "id": "bd697efc",
   "metadata": {},
   "outputs": [],
   "source": [
    "matcher.add('FOS',[pattren1,pattren2,pattren3])"
   ]
  },
  {
   "cell_type": "code",
   "execution_count": 199,
   "id": "df99992b",
   "metadata": {},
   "outputs": [],
   "source": [
    "found_matches= matcher(doc)"
   ]
  },
  {
   "cell_type": "code",
   "execution_count": 200,
   "id": "4b1b3728",
   "metadata": {},
   "outputs": [
    {
     "name": "stdout",
     "output_type": "stream",
     "text": [
      "[(8192445253649381192, 11, 15), (8192445253649381192, 36, 40), (8192445253649381192, 187, 191)]\n"
     ]
    }
   ],
   "source": [
    "print(found_matches)"
   ]
  },
  {
   "cell_type": "code",
   "execution_count": 201,
   "id": "d4f32124",
   "metadata": {},
   "outputs": [
    {
     "name": "stdout",
     "output_type": "stream",
     "text": [
      "8192445253649381192 FOS 11 15 quiet as a mouse\n",
      "8192445253649381192 FOS 36 40 Marriage is a journey\n",
      "8192445253649381192 FOS 187 191 happy as a pig\n"
     ]
    }
   ],
   "source": [
    "for match_id, start,end in found_matches:\n",
    "    string_id = nlp.vocab.strings[match_id]\n",
    "    span=doc[start:end]\n",
    "    print(match_id,string_id,start,end,span.text)"
   ]
  },
  {
   "cell_type": "code",
   "execution_count": 202,
   "id": "636be772",
   "metadata": {},
   "outputs": [],
   "source": [
    "matcher.remove('FOS')"
   ]
  },
  {
   "cell_type": "code",
   "execution_count": 183,
   "id": "d551630e",
   "metadata": {},
   "outputs": [],
   "source": [
    "from spacy.matcher import PhraseMatcher"
   ]
  },
  {
   "cell_type": "code",
   "execution_count": 184,
   "id": "28906158",
   "metadata": {},
   "outputs": [],
   "source": [
    "matcher= PhraseMatcher(nlp.vocab)"
   ]
  },
  {
   "cell_type": "code",
   "execution_count": 185,
   "id": "a95929a7",
   "metadata": {},
   "outputs": [],
   "source": [
    "with open('/Users/PaulGee/Downloads/partsofspeechtext.txt','r') as f:\n",
    "    doc1 = nlp(f.read())"
   ]
  },
  {
   "cell_type": "code",
   "execution_count": 186,
   "id": "918429af",
   "metadata": {},
   "outputs": [],
   "source": [
    "phrase_list = ['multitude of melancholy moments of malaise','Max made many memorable moments']"
   ]
  },
  {
   "cell_type": "code",
   "execution_count": 187,
   "id": "cd92dc2c",
   "metadata": {},
   "outputs": [],
   "source": [
    "phrase_patterns = [nlp(text) for text in phrase_list]"
   ]
  },
  {
   "cell_type": "code",
   "execution_count": 188,
   "id": "7581b3a1",
   "metadata": {},
   "outputs": [],
   "source": [
    "matcher.add('PP', None, *phrase_patterns)"
   ]
  },
  {
   "cell_type": "code",
   "execution_count": 189,
   "id": "773258cf",
   "metadata": {},
   "outputs": [],
   "source": [
    "matches = matcher(doc1)"
   ]
  },
  {
   "cell_type": "code",
   "execution_count": 190,
   "id": "aaaa1f83",
   "metadata": {},
   "outputs": [
    {
     "data": {
      "text/plain": [
       "[(1146170440868975927, 93, 98), (1146170440868975927, 105, 111)]"
      ]
     },
     "execution_count": 190,
     "metadata": {},
     "output_type": "execute_result"
    }
   ],
   "source": [
    "matches"
   ]
  },
  {
   "cell_type": "code",
   "execution_count": 191,
   "id": "46e89579",
   "metadata": {},
   "outputs": [
    {
     "name": "stdout",
     "output_type": "stream",
     "text": [
      "1146170440868975927 PP 93 98 Max made many memorable moments\n",
      "1146170440868975927 PP 105 111 multitude of melancholy moments of malaise\n"
     ]
    }
   ],
   "source": [
    "for match_id, start,end in matches:\n",
    "    string_id = nlp.vocab.strings[match_id]\n",
    "    span=doc1[start:end]\n",
    "    print(match_id,string_id,start,end,span.text)"
   ]
  },
  {
   "cell_type": "code",
   "execution_count": null,
   "id": "fefef78d",
   "metadata": {},
   "outputs": [],
   "source": []
  },
  {
   "cell_type": "code",
   "execution_count": null,
   "id": "deaf9f3d",
   "metadata": {},
   "outputs": [],
   "source": []
  }
 ],
 "metadata": {
  "kernelspec": {
   "display_name": "Python 3 (ipykernel)",
   "language": "python",
   "name": "python3"
  },
  "language_info": {
   "codemirror_mode": {
    "name": "ipython",
    "version": 3
   },
   "file_extension": ".py",
   "mimetype": "text/x-python",
   "name": "python",
   "nbconvert_exporter": "python",
   "pygments_lexer": "ipython3",
   "version": "3.7.11"
  }
 },
 "nbformat": 4,
 "nbformat_minor": 5
}
