{
 "cells": [
  {
   "cell_type": "markdown",
   "id": "029f10a9",
   "metadata": {},
   "source": [
    "# Assignment 1"
   ]
  },
  {
   "cell_type": "markdown",
   "id": "33d32b63",
   "metadata": {},
   "source": [
    "## *All questions have been answered accordingly*"
   ]
  },
  {
   "cell_type": "markdown",
   "id": "f063cd9c",
   "metadata": {},
   "source": [
    "### Question 1"
   ]
  },
  {
   "cell_type": "markdown",
   "id": "b74a05ef",
   "metadata": {},
   "source": [
    "|Symbol ||Description    ||Examples Pattern  ||Example Match|\n",
    "|-------||---------------||------------------||-------------|\n",
    "| \\d    ||  A digit      ||    Myline_\\d     ||  Myline_2   |\n",
    "| \\D    || A non-digit   ||    \\D\\D\\D        ||  DEF        |\n",
    "| \\w    ||  Alphanumeric ||   \\w-\\w\\w\\w      ||  A-b_d      |\n",
    "| \\s    ||  white-space  ||   a\\sb\\sc        ||  a b c      |\n",
    "| \\W    || Non-Alphamumeric ||  \\W\\W\\W\\W     ||  @%*        |  \n",
    "|  \\S   ||  Non-Whitespace  ||  \\S\\S\\S\\S     ||  hell       |\n",
    "| {2}   || Occurs exactly 3 times ||  \\D{3}  ||  xyz        |\n",
    "| {2.4} || Occurs 2 to 4 times || \\d{2,4}    ||  234        |\n",
    "| {3,}  || Occurs 3 or more    || \\w{3,}     || ewerrrww    |\n",
    "| \\*    || Occurs Zero or more times  || \\A\\*B\\*C* || AAACC |\n",
    "| +     || Occurs one or more times || Version\\w-\\w+ || Version A-b1_1 |\n",
    "| ?     || Occurs or none  ||  Rain?        ||   Rain"
   ]
  },
  {
   "cell_type": "code",
   "execution_count": null,
   "id": "06aba946",
   "metadata": {},
   "outputs": [],
   "source": [
    " "
   ]
  },
  {
   "cell_type": "markdown",
   "id": "b68a0fe6",
   "metadata": {},
   "source": [
    "### Question 2: SSN Search"
   ]
  },
  {
   "cell_type": "code",
   "execution_count": 4,
   "id": "ef3e4ce7",
   "metadata": {},
   "outputs": [],
   "source": [
    "import re"
   ]
  },
  {
   "cell_type": "code",
   "execution_count": 32,
   "id": "b28f0d2f",
   "metadata": {},
   "outputs": [],
   "source": [
    "def  socialsecurity(string):\n",
    "    t = re.search(r'(\\d{3}-\\d{2}-\\d{4})',string)\n",
    "    return t"
   ]
  },
  {
   "cell_type": "code",
   "execution_count": 33,
   "id": "bf7ade3e",
   "metadata": {},
   "outputs": [
    {
     "data": {
      "text/plain": [
       "<re.Match object; span=(40, 51), match='456-22-4589'>"
      ]
     },
     "execution_count": 33,
     "metadata": {},
     "output_type": "execute_result"
    }
   ],
   "source": [
    "socialsecurity(\"I just got my SSN for the job and it is 456-22-4589, Finally I can get paid!, but what if the number was 332-35-1256\")"
   ]
  },
  {
   "cell_type": "code",
   "execution_count": 34,
   "id": "efb43bda",
   "metadata": {},
   "outputs": [],
   "source": [
    "ssn = socialsecurity(\"I just got my SSN for the job and it is 456-22-4589, Finally I can get paid!\")"
   ]
  },
  {
   "cell_type": "code",
   "execution_count": 35,
   "id": "7a8c0652",
   "metadata": {},
   "outputs": [
    {
     "data": {
      "text/plain": [
       "'456-22-4589'"
      ]
     },
     "execution_count": 35,
     "metadata": {},
     "output_type": "execute_result"
    }
   ],
   "source": [
    "ssn.group()"
   ]
  },
  {
   "cell_type": "markdown",
   "id": "a02e21c1",
   "metadata": {},
   "source": [
    "### Question 3: Password Search"
   ]
  },
  {
   "cell_type": "code",
   "execution_count": 43,
   "id": "e1f9bbe4",
   "metadata": {},
   "outputs": [
    {
     "name": "stdout",
     "output_type": "stream",
     "text": [
      "Enter string to test: Fssd889#%\n"
     ]
    },
    {
     "data": {
      "text/plain": [
       "True"
      ]
     },
     "execution_count": 43,
     "metadata": {},
     "output_type": "execute_result"
    }
   ],
   "source": [
    "password = input(\"Enter string to test: \")\n",
    "True if (re.fullmatch(r'^(?=.*?[A-Z])(?=.*?[a-z])(?=.*?[0-9])(?=.*?[#?!@$%^&*-]).{8,12}$', password)) else False"
   ]
  },
  {
   "cell_type": "code",
   "execution_count": 50,
   "id": "be21a7ea",
   "metadata": {},
   "outputs": [
    {
     "name": "stdout",
     "output_type": "stream",
     "text": [
      "Enter string to test: Jepdscs99@\n",
      "Please enter another Password according to the preferences stated!.\n"
     ]
    }
   ],
   "source": [
    "password = input(\"Enter string to test: \")\n",
    "if re.match(r'[0-9A-Za-z0-9@#$]{6,20}', password):\n",
    "    print(\"Please enter another Password according to the preferences stated!.\")\n",
    "elif re.match(r'[A-Za-z0-9@#$]{6,20}', password):\n",
    "    print(\"Password Correct!\")"
   ]
  }
 ],
 "metadata": {
  "kernelspec": {
   "display_name": "Python 3 (ipykernel)",
   "language": "python",
   "name": "python3"
  },
  "language_info": {
   "codemirror_mode": {
    "name": "ipython",
    "version": 3
   },
   "file_extension": ".py",
   "mimetype": "text/x-python",
   "name": "python",
   "nbconvert_exporter": "python",
   "pygments_lexer": "ipython3",
   "version": "3.7.11"
  }
 },
 "nbformat": 4,
 "nbformat_minor": 5
}
