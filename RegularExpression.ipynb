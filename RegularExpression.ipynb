{
 "cells": [
  {
   "cell_type": "code",
   "execution_count": 15,
   "id": "7f8fc5e9",
   "metadata": {},
   "outputs": [],
   "source": [
    "import re"
   ]
  },
  {
   "cell_type": "code",
   "execution_count": 67,
   "id": "08ad7606",
   "metadata": {},
   "outputs": [],
   "source": [
    "text = 'The number for the help phone desk is 814-871-2897 but the number for Andy by   phone is 814-871-5838... hone he solves problems'"
   ]
  },
  {
   "cell_type": "code",
   "execution_count": 68,
   "id": "54dcce50",
   "metadata": {},
   "outputs": [
    {
     "data": {
      "text/plain": [
       "True"
      ]
     },
     "execution_count": 68,
     "metadata": {},
     "output_type": "execute_result"
    }
   ],
   "source": [
    "'814-871-2897' in text"
   ]
  },
  {
   "cell_type": "code",
   "execution_count": 69,
   "id": "2c05401a",
   "metadata": {},
   "outputs": [],
   "source": [
    "pattern = '814-871-5838'"
   ]
  },
  {
   "cell_type": "code",
   "execution_count": 33,
   "id": "ed87ea58",
   "metadata": {},
   "outputs": [],
   "source": [
    "mymatch = re.search(pattern,text)"
   ]
  },
  {
   "cell_type": "code",
   "execution_count": 42,
   "id": "a5201415",
   "metadata": {},
   "outputs": [
    {
     "data": {
      "text/plain": [
       "<re.Match object; span=(87, 99), match='814-871-5838'>"
      ]
     },
     "execution_count": 42,
     "metadata": {},
     "output_type": "execute_result"
    }
   ],
   "source": [
    "mymatch"
   ]
  },
  {
   "cell_type": "code",
   "execution_count": 34,
   "id": "bcae0bd9",
   "metadata": {},
   "outputs": [
    {
     "data": {
      "text/plain": [
       "re.Match"
      ]
     },
     "execution_count": 34,
     "metadata": {},
     "output_type": "execute_result"
    }
   ],
   "source": [
    "type(mymatch)"
   ]
  },
  {
   "cell_type": "code",
   "execution_count": 35,
   "id": "16e53c82",
   "metadata": {},
   "outputs": [
    {
     "data": {
      "text/plain": [
       "(87, 99)"
      ]
     },
     "execution_count": 35,
     "metadata": {},
     "output_type": "execute_result"
    }
   ],
   "source": [
    "mymatch.span()"
   ]
  },
  {
   "cell_type": "code",
   "execution_count": 22,
   "id": "26c3531a",
   "metadata": {},
   "outputs": [],
   "source": [
    "text2 = \"my phone is a phone\""
   ]
  },
  {
   "cell_type": "code",
   "execution_count": 23,
   "id": "551107af",
   "metadata": {},
   "outputs": [],
   "source": [
    "all_matches = re.findall(\"phone\",text2)"
   ]
  },
  {
   "cell_type": "code",
   "execution_count": 24,
   "id": "717e0d1e",
   "metadata": {},
   "outputs": [
    {
     "data": {
      "text/plain": [
       "['phone', 'phone']"
      ]
     },
     "execution_count": 24,
     "metadata": {},
     "output_type": "execute_result"
    }
   ],
   "source": [
    "all_matches"
   ]
  },
  {
   "cell_type": "code",
   "execution_count": 25,
   "id": "90058820",
   "metadata": {},
   "outputs": [
    {
     "data": {
      "text/plain": [
       "2"
      ]
     },
     "execution_count": 25,
     "metadata": {},
     "output_type": "execute_result"
    }
   ],
   "source": [
    "len(all_matches)"
   ]
  },
  {
   "cell_type": "code",
   "execution_count": 47,
   "id": "e1043707",
   "metadata": {},
   "outputs": [
    {
     "name": "stdout",
     "output_type": "stream",
     "text": [
      "(24, 29)\n",
      "(80, 85)\n",
      "(105, 110)\n"
     ]
    }
   ],
   "source": [
    "for mymatch in re.finditer(\"phone\",text):\n",
    "    print(mymatch.span())"
   ]
  },
  {
   "cell_type": "code",
   "execution_count": 43,
   "id": "d91d4854",
   "metadata": {},
   "outputs": [
    {
     "data": {
      "text/plain": [
       "87"
      ]
     },
     "execution_count": 43,
     "metadata": {},
     "output_type": "execute_result"
    }
   ],
   "source": [
    "mymatch.start()"
   ]
  },
  {
   "cell_type": "code",
   "execution_count": 44,
   "id": "559ae015",
   "metadata": {},
   "outputs": [
    {
     "data": {
      "text/plain": [
       "99"
      ]
     },
     "execution_count": 44,
     "metadata": {},
     "output_type": "execute_result"
    }
   ],
   "source": [
    "mymatch.end()"
   ]
  },
  {
   "cell_type": "code",
   "execution_count": 70,
   "id": "890b74bb",
   "metadata": {},
   "outputs": [
    {
     "data": {
      "text/plain": [
       "'The number for the help phone desk is 814-871-2897 but the number for Andy by   phone is 814-871-5838... hone he solves problems'"
      ]
     },
     "execution_count": 70,
     "metadata": {},
     "output_type": "execute_result"
    }
   ],
   "source": [
    "text"
   ]
  },
  {
   "cell_type": "code",
   "execution_count": 71,
   "id": "7bf547c9",
   "metadata": {},
   "outputs": [],
   "source": [
    "pattern1 = r'\\d\\d\\d-\\d\\d\\d-\\d\\d\\d\\d'"
   ]
  },
  {
   "cell_type": "code",
   "execution_count": 76,
   "id": "a4823365",
   "metadata": {},
   "outputs": [],
   "source": [
    "phone_number1 = re.findall(pattern1,text)"
   ]
  },
  {
   "cell_type": "code",
   "execution_count": 77,
   "id": "05697a0a",
   "metadata": {},
   "outputs": [
    {
     "data": {
      "text/plain": [
       "['814-871-2897', '814-871-5838']"
      ]
     },
     "execution_count": 77,
     "metadata": {},
     "output_type": "execute_result"
    }
   ],
   "source": [
    "phone_number1"
   ]
  },
  {
   "cell_type": "code",
   "execution_count": 72,
   "id": "f4e62a98",
   "metadata": {},
   "outputs": [],
   "source": [
    "phone_number = re.search(pattern,text)"
   ]
  },
  {
   "cell_type": "code",
   "execution_count": 73,
   "id": "bb981d3b",
   "metadata": {},
   "outputs": [
    {
     "data": {
      "text/plain": [
       "<re.Match object; span=(89, 101), match='814-871-5838'>"
      ]
     },
     "execution_count": 73,
     "metadata": {},
     "output_type": "execute_result"
    }
   ],
   "source": [
    "phone_number"
   ]
  },
  {
   "cell_type": "code",
   "execution_count": 74,
   "id": "1538260c",
   "metadata": {},
   "outputs": [
    {
     "data": {
      "text/plain": [
       "'814-871-5838'"
      ]
     },
     "execution_count": 74,
     "metadata": {},
     "output_type": "execute_result"
    }
   ],
   "source": [
    "phone_number.group()"
   ]
  },
  {
   "cell_type": "code",
   "execution_count": 75,
   "id": "4600a7b8",
   "metadata": {},
   "outputs": [
    {
     "name": "stdout",
     "output_type": "stream",
     "text": [
      "(24, 29)\n",
      "(80, 85)\n"
     ]
    }
   ],
   "source": [
    "for phone_number in re.finditer(\"phone\",text):\n",
    "    print(phone_number.span())"
   ]
  },
  {
   "cell_type": "code",
   "execution_count": null,
   "id": "66c6debf",
   "metadata": {},
   "outputs": [],
   "source": []
  }
 ],
 "metadata": {
  "kernelspec": {
   "display_name": "Python 3 (ipykernel)",
   "language": "python",
   "name": "python3"
  },
  "language_info": {
   "codemirror_mode": {
    "name": "ipython",
    "version": 3
   },
   "file_extension": ".py",
   "mimetype": "text/x-python",
   "name": "python",
   "nbconvert_exporter": "python",
   "pygments_lexer": "ipython3",
   "version": "3.7.11"
  }
 },
 "nbformat": 4,
 "nbformat_minor": 5
}
