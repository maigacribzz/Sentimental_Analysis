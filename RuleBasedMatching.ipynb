{
 "cells": [
  {
   "cell_type": "code",
   "execution_count": 1,
   "source": [
    "import spacy\n",
    "nlp = spacy.load('en_core_web_sm')"
   ],
   "outputs": [],
   "metadata": {}
  },
  {
   "cell_type": "code",
   "execution_count": 2,
   "source": [
    "from spacy.matcher import Matcher\n",
    "matcher = Matcher(nlp.vocab)"
   ],
   "outputs": [],
   "metadata": {}
  },
  {
   "cell_type": "code",
   "execution_count": 3,
   "source": [
    "#Trying to pull out the metaphor\n",
    "text = \"As John snuck up on his wife, he was as quiet as a mouse. Salley is a daisy and everybody likes her. She had been married to John for five years.  Marriage is a journey, but marriage to John is more exciting than most. Life with John was nothing if not exciting. But life wasn't a beach for the two.\\n\\nThey had a great dog, Max, but death like a thief stole Max at a snail's pace.  Max made many memorable moments, making them miss him in a multitude of melancholy moments of malaise. Max once pulled the couple out of bed during a house fire, so the two could get to safety before the house became engulfed in flames. \\n\\nYes, life is a fickle mistress for the young couple, but they soldier on. As John reaches out to startle Salley, she turned with the garden hose dousing him in water. Life ain't a peach, but the were as happy as a pig in mud.\\n\""
   ],
   "outputs": [],
   "metadata": {}
  },
  {
   "cell_type": "code",
   "execution_count": 4,
   "source": [
    "doc = nlp(text)"
   ],
   "outputs": [],
   "metadata": {}
  },
  {
   "cell_type": "code",
   "execution_count": 5,
   "source": [
    "doc"
   ],
   "outputs": [
    {
     "output_type": "execute_result",
     "data": {
      "text/plain": [
       "As John snuck up on his wife, he was as quiet as a mouse. Salley is a daisy and everybody likes her. She had been married to John for five years.  Marriage is a journey, but marriage to John is more exciting than most. Life with John was nothing if not exciting. But life wasn't a beach for the two.\n",
       "\n",
       "They had a great dog, Max, but death like a thief stole Max at a snail's pace.  Max made many memorable moments, making them miss him in a multitude of melancholy moments of malaise. Max once pulled the couple out of bed during a house fire, so the two could get to safety before the house became engulfed in flames. \n",
       "\n",
       "Yes, life is a fickle mistress for the young couple, but they soldier on. As John reaches out to startle Salley, she turned with the garden hose dousing him in water. Life ain't a peach, but the were as happy as a pig in mud."
      ]
     },
     "metadata": {},
     "execution_count": 5
    }
   ],
   "metadata": {}
  },
  {
   "cell_type": "code",
   "execution_count": 6,
   "source": [
    "for sen in doc.sents:\n",
    "    print(f'{sen} \\n\\n\\n')"
   ],
   "outputs": [
    {
     "output_type": "stream",
     "name": "stdout",
     "text": [
      "As John snuck up on his wife, he was as quiet as a mouse. \n",
      "\n",
      "\n",
      "\n",
      "Salley is a daisy and everybody likes her. \n",
      "\n",
      "\n",
      "\n",
      "She had been married to John for five years. \n",
      "\n",
      "\n",
      "\n",
      " Marriage is a journey, but marriage to John is more exciting than most. \n",
      "\n",
      "\n",
      "\n",
      "Life with John was nothing if not exciting. \n",
      "\n",
      "\n",
      "\n",
      "But life wasn't a beach for the two. \n",
      "\n",
      "\n",
      "\n",
      "\n",
      "\n",
      " \n",
      "\n",
      "\n",
      "\n",
      "They had a great dog, Max, but death like a thief stole Max at a snail's pace. \n",
      "\n",
      "\n",
      "\n",
      " Max made many memorable moments, making them miss him in a multitude of melancholy moments of malaise. \n",
      "\n",
      "\n",
      "\n",
      "Max once pulled the couple out of bed during a house fire, so the two could get to safety before the house became engulfed in flames. \n",
      "\n",
      "\n",
      "\n",
      "\n",
      "\n",
      " \n",
      "\n",
      "\n",
      "\n",
      "Yes, life is a fickle mistress for the young couple, but they soldier on. \n",
      "\n",
      "\n",
      "\n",
      "As John reaches out to startle Salley, she turned with the garden hose dousing him in water. \n",
      "\n",
      "\n",
      "\n",
      "Life ain't a peach, but the were as happy as a pig in mud. \n",
      "\n",
      "\n",
      "\n",
      "\n",
      " \n",
      "\n",
      "\n",
      "\n"
     ]
    }
   ],
   "metadata": {}
  },
  {
   "cell_type": "code",
   "execution_count": 7,
   "source": [
    "for sen in doc.sents:\n",
    "    for word in sen:\n",
    "        print(f'{word} \\n')"
   ],
   "outputs": [
    {
     "output_type": "stream",
     "name": "stdout",
     "text": [
      "As \n",
      "\n",
      "John \n",
      "\n",
      "snuck \n",
      "\n",
      "up \n",
      "\n",
      "on \n",
      "\n",
      "his \n",
      "\n",
      "wife \n",
      "\n",
      ", \n",
      "\n",
      "he \n",
      "\n",
      "was \n",
      "\n",
      "as \n",
      "\n",
      "quiet \n",
      "\n",
      "as \n",
      "\n",
      "a \n",
      "\n",
      "mouse \n",
      "\n",
      ". \n",
      "\n",
      "Salley \n",
      "\n",
      "is \n",
      "\n",
      "a \n",
      "\n",
      "daisy \n",
      "\n",
      "and \n",
      "\n",
      "everybody \n",
      "\n",
      "likes \n",
      "\n",
      "her \n",
      "\n",
      ". \n",
      "\n",
      "She \n",
      "\n",
      "had \n",
      "\n",
      "been \n",
      "\n",
      "married \n",
      "\n",
      "to \n",
      "\n",
      "John \n",
      "\n",
      "for \n",
      "\n",
      "five \n",
      "\n",
      "years \n",
      "\n",
      ". \n",
      "\n",
      "  \n",
      "\n",
      "Marriage \n",
      "\n",
      "is \n",
      "\n",
      "a \n",
      "\n",
      "journey \n",
      "\n",
      ", \n",
      "\n",
      "but \n",
      "\n",
      "marriage \n",
      "\n",
      "to \n",
      "\n",
      "John \n",
      "\n",
      "is \n",
      "\n",
      "more \n",
      "\n",
      "exciting \n",
      "\n",
      "than \n",
      "\n",
      "most \n",
      "\n",
      ". \n",
      "\n",
      "Life \n",
      "\n",
      "with \n",
      "\n",
      "John \n",
      "\n",
      "was \n",
      "\n",
      "nothing \n",
      "\n",
      "if \n",
      "\n",
      "not \n",
      "\n",
      "exciting \n",
      "\n",
      ". \n",
      "\n",
      "But \n",
      "\n",
      "life \n",
      "\n",
      "was \n",
      "\n",
      "n't \n",
      "\n",
      "a \n",
      "\n",
      "beach \n",
      "\n",
      "for \n",
      "\n",
      "the \n",
      "\n",
      "two \n",
      "\n",
      ". \n",
      "\n",
      "\n",
      "\n",
      " \n",
      "\n",
      "They \n",
      "\n",
      "had \n",
      "\n",
      "a \n",
      "\n",
      "great \n",
      "\n",
      "dog \n",
      "\n",
      ", \n",
      "\n",
      "Max \n",
      "\n",
      ", \n",
      "\n",
      "but \n",
      "\n",
      "death \n",
      "\n",
      "like \n",
      "\n",
      "a \n",
      "\n",
      "thief \n",
      "\n",
      "stole \n",
      "\n",
      "Max \n",
      "\n",
      "at \n",
      "\n",
      "a \n",
      "\n",
      "snail \n",
      "\n",
      "'s \n",
      "\n",
      "pace \n",
      "\n",
      ". \n",
      "\n",
      "  \n",
      "\n",
      "Max \n",
      "\n",
      "made \n",
      "\n",
      "many \n",
      "\n",
      "memorable \n",
      "\n",
      "moments \n",
      "\n",
      ", \n",
      "\n",
      "making \n",
      "\n",
      "them \n",
      "\n",
      "miss \n",
      "\n",
      "him \n",
      "\n",
      "in \n",
      "\n",
      "a \n",
      "\n",
      "multitude \n",
      "\n",
      "of \n",
      "\n",
      "melancholy \n",
      "\n",
      "moments \n",
      "\n",
      "of \n",
      "\n",
      "malaise \n",
      "\n",
      ". \n",
      "\n",
      "Max \n",
      "\n",
      "once \n",
      "\n",
      "pulled \n",
      "\n",
      "the \n",
      "\n",
      "couple \n",
      "\n",
      "out \n",
      "\n",
      "of \n",
      "\n",
      "bed \n",
      "\n",
      "during \n",
      "\n",
      "a \n",
      "\n",
      "house \n",
      "\n",
      "fire \n",
      "\n",
      ", \n",
      "\n",
      "so \n",
      "\n",
      "the \n",
      "\n",
      "two \n",
      "\n",
      "could \n",
      "\n",
      "get \n",
      "\n",
      "to \n",
      "\n",
      "safety \n",
      "\n",
      "before \n",
      "\n",
      "the \n",
      "\n",
      "house \n",
      "\n",
      "became \n",
      "\n",
      "engulfed \n",
      "\n",
      "in \n",
      "\n",
      "flames \n",
      "\n",
      ". \n",
      "\n",
      "\n",
      "\n",
      " \n",
      "\n",
      "Yes \n",
      "\n",
      ", \n",
      "\n",
      "life \n",
      "\n",
      "is \n",
      "\n",
      "a \n",
      "\n",
      "fickle \n",
      "\n",
      "mistress \n",
      "\n",
      "for \n",
      "\n",
      "the \n",
      "\n",
      "young \n",
      "\n",
      "couple \n",
      "\n",
      ", \n",
      "\n",
      "but \n",
      "\n",
      "they \n",
      "\n",
      "soldier \n",
      "\n",
      "on \n",
      "\n",
      ". \n",
      "\n",
      "As \n",
      "\n",
      "John \n",
      "\n",
      "reaches \n",
      "\n",
      "out \n",
      "\n",
      "to \n",
      "\n",
      "startle \n",
      "\n",
      "Salley \n",
      "\n",
      ", \n",
      "\n",
      "she \n",
      "\n",
      "turned \n",
      "\n",
      "with \n",
      "\n",
      "the \n",
      "\n",
      "garden \n",
      "\n",
      "hose \n",
      "\n",
      "dousing \n",
      "\n",
      "him \n",
      "\n",
      "in \n",
      "\n",
      "water \n",
      "\n",
      ". \n",
      "\n",
      "Life \n",
      "\n",
      "ai \n",
      "\n",
      "n't \n",
      "\n",
      "a \n",
      "\n",
      "peach \n",
      "\n",
      ", \n",
      "\n",
      "but \n",
      "\n",
      "the \n",
      "\n",
      "were \n",
      "\n",
      "as \n",
      "\n",
      "happy \n",
      "\n",
      "as \n",
      "\n",
      "a \n",
      "\n",
      "pig \n",
      "\n",
      "in \n",
      "\n",
      "mud \n",
      "\n",
      ". \n",
      "\n",
      "\n",
      " \n",
      "\n"
     ]
    }
   ],
   "metadata": {}
  },
  {
   "cell_type": "code",
   "execution_count": 8,
   "source": [
    "for sen in doc.sents:\n",
    "    for word in sen:\n",
    "        print(f'{word.text[0]} \\n')"
   ],
   "outputs": [
    {
     "output_type": "stream",
     "name": "stdout",
     "text": [
      "A \n",
      "\n",
      "J \n",
      "\n",
      "s \n",
      "\n",
      "u \n",
      "\n",
      "o \n",
      "\n",
      "h \n",
      "\n",
      "w \n",
      "\n",
      ", \n",
      "\n",
      "h \n",
      "\n",
      "w \n",
      "\n",
      "a \n",
      "\n",
      "q \n",
      "\n",
      "a \n",
      "\n",
      "a \n",
      "\n",
      "m \n",
      "\n",
      ". \n",
      "\n",
      "S \n",
      "\n",
      "i \n",
      "\n",
      "a \n",
      "\n",
      "d \n",
      "\n",
      "a \n",
      "\n",
      "e \n",
      "\n",
      "l \n",
      "\n",
      "h \n",
      "\n",
      ". \n",
      "\n",
      "S \n",
      "\n",
      "h \n",
      "\n",
      "b \n",
      "\n",
      "m \n",
      "\n",
      "t \n",
      "\n",
      "J \n",
      "\n",
      "f \n",
      "\n",
      "f \n",
      "\n",
      "y \n",
      "\n",
      ". \n",
      "\n",
      "  \n",
      "\n",
      "M \n",
      "\n",
      "i \n",
      "\n",
      "a \n",
      "\n",
      "j \n",
      "\n",
      ", \n",
      "\n",
      "b \n",
      "\n",
      "m \n",
      "\n",
      "t \n",
      "\n",
      "J \n",
      "\n",
      "i \n",
      "\n",
      "m \n",
      "\n",
      "e \n",
      "\n",
      "t \n",
      "\n",
      "m \n",
      "\n",
      ". \n",
      "\n",
      "L \n",
      "\n",
      "w \n",
      "\n",
      "J \n",
      "\n",
      "w \n",
      "\n",
      "n \n",
      "\n",
      "i \n",
      "\n",
      "n \n",
      "\n",
      "e \n",
      "\n",
      ". \n",
      "\n",
      "B \n",
      "\n",
      "l \n",
      "\n",
      "w \n",
      "\n",
      "n \n",
      "\n",
      "a \n",
      "\n",
      "b \n",
      "\n",
      "f \n",
      "\n",
      "t \n",
      "\n",
      "t \n",
      "\n",
      ". \n",
      "\n",
      "\n",
      " \n",
      "\n",
      "T \n",
      "\n",
      "h \n",
      "\n",
      "a \n",
      "\n",
      "g \n",
      "\n",
      "d \n",
      "\n",
      ", \n",
      "\n",
      "M \n",
      "\n",
      ", \n",
      "\n",
      "b \n",
      "\n",
      "d \n",
      "\n",
      "l \n",
      "\n",
      "a \n",
      "\n",
      "t \n",
      "\n",
      "s \n",
      "\n",
      "M \n",
      "\n",
      "a \n",
      "\n",
      "a \n",
      "\n",
      "s \n",
      "\n",
      "' \n",
      "\n",
      "p \n",
      "\n",
      ". \n",
      "\n",
      "  \n",
      "\n",
      "M \n",
      "\n",
      "m \n",
      "\n",
      "m \n",
      "\n",
      "m \n",
      "\n",
      "m \n",
      "\n",
      ", \n",
      "\n",
      "m \n",
      "\n",
      "t \n",
      "\n",
      "m \n",
      "\n",
      "h \n",
      "\n",
      "i \n",
      "\n",
      "a \n",
      "\n",
      "m \n",
      "\n",
      "o \n",
      "\n",
      "m \n",
      "\n",
      "m \n",
      "\n",
      "o \n",
      "\n",
      "m \n",
      "\n",
      ". \n",
      "\n",
      "M \n",
      "\n",
      "o \n",
      "\n",
      "p \n",
      "\n",
      "t \n",
      "\n",
      "c \n",
      "\n",
      "o \n",
      "\n",
      "o \n",
      "\n",
      "b \n",
      "\n",
      "d \n",
      "\n",
      "a \n",
      "\n",
      "h \n",
      "\n",
      "f \n",
      "\n",
      ", \n",
      "\n",
      "s \n",
      "\n",
      "t \n",
      "\n",
      "t \n",
      "\n",
      "c \n",
      "\n",
      "g \n",
      "\n",
      "t \n",
      "\n",
      "s \n",
      "\n",
      "b \n",
      "\n",
      "t \n",
      "\n",
      "h \n",
      "\n",
      "b \n",
      "\n",
      "e \n",
      "\n",
      "i \n",
      "\n",
      "f \n",
      "\n",
      ". \n",
      "\n",
      "\n",
      " \n",
      "\n",
      "Y \n",
      "\n",
      ", \n",
      "\n",
      "l \n",
      "\n",
      "i \n",
      "\n",
      "a \n",
      "\n",
      "f \n",
      "\n",
      "m \n",
      "\n",
      "f \n",
      "\n",
      "t \n",
      "\n",
      "y \n",
      "\n",
      "c \n",
      "\n",
      ", \n",
      "\n",
      "b \n",
      "\n",
      "t \n",
      "\n",
      "s \n",
      "\n",
      "o \n",
      "\n",
      ". \n",
      "\n",
      "A \n",
      "\n",
      "J \n",
      "\n",
      "r \n",
      "\n",
      "o \n",
      "\n",
      "t \n",
      "\n",
      "s \n",
      "\n",
      "S \n",
      "\n",
      ", \n",
      "\n",
      "s \n",
      "\n",
      "t \n",
      "\n",
      "w \n",
      "\n",
      "t \n",
      "\n",
      "g \n",
      "\n",
      "h \n",
      "\n",
      "d \n",
      "\n",
      "h \n",
      "\n",
      "i \n",
      "\n",
      "w \n",
      "\n",
      ". \n",
      "\n",
      "L \n",
      "\n",
      "a \n",
      "\n",
      "n \n",
      "\n",
      "a \n",
      "\n",
      "p \n",
      "\n",
      ", \n",
      "\n",
      "b \n",
      "\n",
      "t \n",
      "\n",
      "w \n",
      "\n",
      "a \n",
      "\n",
      "h \n",
      "\n",
      "a \n",
      "\n",
      "a \n",
      "\n",
      "p \n",
      "\n",
      "i \n",
      "\n",
      "m \n",
      "\n",
      ". \n",
      "\n",
      "\n",
      " \n",
      "\n"
     ]
    }
   ],
   "metadata": {}
  },
  {
   "cell_type": "code",
   "execution_count": 9,
   "source": [
    "print(nlp.Defaults.stop_words)"
   ],
   "outputs": [
    {
     "output_type": "stream",
     "name": "stdout",
     "text": [
      "{'’d', 'a', 'many', 'show', 'beyond', 'meanwhile', 'besides', 'and', 'must', 'few', 'rather', 'more', 'since', 'less', 'mine', 'either', 'such', 'whom', 'own', 'upon', '‘m', 'per', 'here', 'within', 'not', 'about', 'indeed', 'whereafter', 'is', 'least', 'ours', 'anyway', 'herself', 'hundred', 'can', 'ca', 'hereupon', 'unless', 'otherwise', 'last', 'once', 'it', 'their', 'hers', 'may', 'when', 'eleven', 'before', 'sometime', 'various', 'alone', 'thereby', 'side', 'am', 'top', 'thence', 'serious', 'some', 'throughout', 'until', 'another', 'were', 'namely', 'amongst', \"n't\", 'regarding', \"'s\", 'this', 'never', 'fifteen', 'well', 'make', 'although', 'nine', 'someone', 'i', 'together', 'you', 'where', 'most', 'noone', 'nobody', 'during', 'onto', 'whereby', \"'m\", 'n‘t', 'mostly', 'four', 'of', 'anywhere', 'seemed', 'latterly', 'became', 'whither', 'our', '’m', '‘ve', 'hence', 'would', 'might', 'sixty', 'whence', 'without', 'seems', 'still', 'whether', 'several', 'being', 'becoming', 'others', 'eight', '‘ll', 'its', 'how', 'ever', 'much', 'please', 'against', 'anyone', 'back', 'further', 'one', 'next', 'becomes', 'whatever', 'using', 'did', 'themselves', 'move', 'call', 'used', 'always', 'whereas', 'the', 'then', 'thereafter', 'seem', 'out', 'everything', 'been', 'thus', 'too', 'else', 'that', 'fifty', 'quite', 'forty', 'six', 'other', 'so', 'whereupon', 'moreover', 'off', 'whenever', 'yourself', 'nowhere', 'could', 'but', 'had', 'they', 'three', 'to', 'perhaps', 'around', 'into', 'as', 'both', 'does', 'do', 'her', 'now', 'me', 'there', 'bottom', 'who', 'only', \"'ll\", 'cannot', 'nevertheless', 'everyone', 'toward', 'us', 'what', 'doing', 'towards', '’ll', 'sometimes', 'say', 'if', 'wherein', 'done', 'anything', 'those', 'none', 'first', 'same', 'however', 'every', 'above', 'former', 'are', 'myself', 'seeming', 'through', 'them', 'under', 'whose', 'front', 'have', 'whoever', 'almost', 'also', 'full', 'behind', 'himself', 'after', 'yours', 'five', 'while', '‘s', 'will', 'herein', 'somewhere', \"'d\", 'why', 'nothing', 'see', 'take', 'we', 'hereby', 'part', 'twenty', 'something', 'n’t', 'therefore', 'or', 'was', '‘re', 'everywhere', 'an', 'very', 'get', 'beside', 'down', 'though', 'due', 'hereafter', 'anyhow', 'ourselves', 'thru', 'enough', 'whole', 'with', 'all', 'among', 'beforehand', 'below', 'formerly', 'in', 'empty', 'really', 'itself', 'afterwards', 'wherever', 'my', 'somehow', 'ten', 'which', 'between', \"'ve\", 'along', 'has', 'via', 'twelve', 'she', 'often', 'on', 'from', 'already', 'go', '’ve', 'amount', 're', 'made', 'any', 'by', 'at', 'for', 'nor', 'except', 'because', 'latter', 'his', 'name', 'even', 'no', 'two', '’re', 'over', 'your', 'just', 'be', 'yet', 'him', 'neither', 'again', 'put', 'third', 'keep', '‘d', 'thereupon', 'he', 'each', \"'re\", 'these', 'elsewhere', 'become', 'across', 'give', 'yourselves', 'therein', 'should', 'than', 'up', '’s'}\n"
     ]
    }
   ],
   "metadata": {}
  },
  {
   "cell_type": "code",
   "execution_count": 10,
   "source": [
    "nlp.vocab['she']"
   ],
   "outputs": [
    {
     "output_type": "execute_result",
     "data": {
      "text/plain": [
       "<spacy.lexeme.Lexeme at 0x7fef22f7ffa0>"
      ]
     },
     "metadata": {},
     "execution_count": 10
    }
   ],
   "metadata": {}
  },
  {
   "cell_type": "code",
   "execution_count": 11,
   "source": [
    "nlp.vocab['she'].is_stop"
   ],
   "outputs": [
    {
     "output_type": "execute_result",
     "data": {
      "text/plain": [
       "True"
      ]
     },
     "metadata": {},
     "execution_count": 11
    }
   ],
   "metadata": {}
  },
  {
   "cell_type": "code",
   "execution_count": 12,
   "source": [
    "for sen in doc.sents:\n",
    "    wordcount = 0\n",
    "    mcount = 0\n",
    "    print(sen)\n",
    "    for tok in sen:\n",
    "        wordcount += 1;\n",
    "        if(tok.text[0].lower() == 'm' and not tok.is_punct):\n",
    "            mcount += 1;\n",
    "    print(f'{mcount}/{wordcount} : {(mcount/wordcount)} \\n')"
   ],
   "outputs": [
    {
     "output_type": "stream",
     "name": "stdout",
     "text": [
      "As John snuck up on his wife, he was as quiet as a mouse.\n",
      "1/16 : 0.0625 \n",
      "\n",
      "Salley is a daisy and everybody likes her.\n",
      "0/9 : 0.0 \n",
      "\n",
      "She had been married to John for five years.\n",
      "1/10 : 0.1 \n",
      "\n",
      " Marriage is a journey, but marriage to John is more exciting than most.\n",
      "4/16 : 0.25 \n",
      "\n",
      "Life with John was nothing if not exciting.\n",
      "0/9 : 0.0 \n",
      "\n",
      "But life wasn't a beach for the two.\n",
      "0/10 : 0.0 \n",
      "\n",
      "\n",
      "\n",
      "\n",
      "0/1 : 0.0 \n",
      "\n",
      "They had a great dog, Max, but death like a thief stole Max at a snail's pace.\n",
      "2/21 : 0.09523809523809523 \n",
      "\n",
      " Max made many memorable moments, making them miss him in a multitude of melancholy moments of malaise.\n",
      "11/20 : 0.55 \n",
      "\n",
      "Max once pulled the couple out of bed during a house fire, so the two could get to safety before the house became engulfed in flames.\n",
      "1/28 : 0.03571428571428571 \n",
      "\n",
      "\n",
      "\n",
      "\n",
      "0/1 : 0.0 \n",
      "\n",
      "Yes, life is a fickle mistress for the young couple, but they soldier on.\n",
      "1/17 : 0.058823529411764705 \n",
      "\n",
      "As John reaches out to startle Salley, she turned with the garden hose dousing him in water.\n",
      "0/19 : 0.0 \n",
      "\n",
      "Life ain't a peach, but the were as happy as a pig in mud.\n",
      "1/17 : 0.058823529411764705 \n",
      "\n",
      "\n",
      "\n",
      "0/1 : 0.0 \n",
      "\n"
     ]
    }
   ],
   "metadata": {}
  },
  {
   "cell_type": "code",
   "execution_count": 13,
   "source": [
    "for sen in doc.sents:\n",
    "    wordcount = 0\n",
    "    mcount = 0\n",
    "    print(sen)\n",
    "    for tok in sen:\n",
    "        wordcount += 1;\n",
    "        tempcount = 0;\n",
    "        char = tok.text[0].lower()\n",
    "        for tok2 in sen:\n",
    "            if(tok2.text[0].lower() == char and not tok.is_punct):\n",
    "                tempcount += 1;\n",
    "        if(tempcount > mcount): mcount = tempcount\n",
    "    print(f'{mcount}/{wordcount} : {(mcount/wordcount)}')\n",
    "    if(mcount/wordcount>0.5): print('It is an Alliteration')"
   ],
   "outputs": [
    {
     "output_type": "stream",
     "name": "stdout",
     "text": [
      "As John snuck up on his wife, he was as quiet as a mouse.\n",
      "4/16 : 0.25\n",
      "Salley is a daisy and everybody likes her.\n",
      "2/9 : 0.2222222222222222\n",
      "She had been married to John for five years.\n",
      "2/10 : 0.2\n",
      " Marriage is a journey, but marriage to John is more exciting than most.\n",
      "4/16 : 0.25\n",
      "Life with John was nothing if not exciting.\n",
      "2/9 : 0.2222222222222222\n",
      "But life wasn't a beach for the two.\n",
      "2/10 : 0.2\n",
      "\n",
      "\n",
      "\n",
      "1/1 : 1.0\n",
      "It is an Alliteration\n",
      "They had a great dog, Max, but death like a thief stole Max at a snail's pace.\n",
      "4/21 : 0.19047619047619047\n",
      " Max made many memorable moments, making them miss him in a multitude of melancholy moments of malaise.\n",
      "11/20 : 0.55\n",
      "It is an Alliteration\n",
      "Max once pulled the couple out of bed during a house fire, so the two could get to safety before the house became engulfed in flames.\n",
      "5/28 : 0.17857142857142858\n",
      "\n",
      "\n",
      "\n",
      "1/1 : 1.0\n",
      "It is an Alliteration\n",
      "Yes, life is a fickle mistress for the young couple, but they soldier on.\n",
      "2/17 : 0.11764705882352941\n",
      "As John reaches out to startle Salley, she turned with the garden hose dousing him in water.\n",
      "3/19 : 0.15789473684210525\n",
      "Life ain't a peach, but the were as happy as a pig in mud.\n",
      "5/17 : 0.29411764705882354\n",
      "\n",
      "\n",
      "1/1 : 1.0\n",
      "It is an Alliteration\n"
     ]
    }
   ],
   "metadata": {}
  },
  {
   "cell_type": "code",
   "execution_count": null,
   "source": [],
   "outputs": [],
   "metadata": {}
  },
  {
   "cell_type": "code",
   "execution_count": 14,
   "source": [
    "doc[8].pos_"
   ],
   "outputs": [
    {
     "output_type": "execute_result",
     "data": {
      "text/plain": [
       "'PRON'"
      ]
     },
     "metadata": {},
     "execution_count": 14
    }
   ],
   "metadata": {}
  },
  {
   "cell_type": "code",
   "execution_count": null,
   "source": [],
   "outputs": [],
   "metadata": {}
  },
  {
   "cell_type": "code",
   "execution_count": 15,
   "source": [
    "doc[8].dep_"
   ],
   "outputs": [
    {
     "output_type": "execute_result",
     "data": {
      "text/plain": [
       "'nsubj'"
      ]
     },
     "metadata": {},
     "execution_count": 15
    }
   ],
   "metadata": {}
  },
  {
   "cell_type": "code",
   "execution_count": 16,
   "source": [
    "metaphor_pat = [{'POS':'NOUN'}, {'LEMMA':'be'},{'LOWER':'a'},{'POS':'NOUN'}]\n",
    "simile_pat = [{'POS':'ADJ'}, {'LEMMA':'as'},{'LOWER':'a'}, {'POS':'NOUN'}]\n",
    "simile_pat1 = [{'POS':'ADJ'}, {'LEMMA':'like'},{'LOWER':'a'}, {'POS':'NOUN'}]"
   ],
   "outputs": [],
   "metadata": {}
  },
  {
   "cell_type": "code",
   "execution_count": 17,
   "source": [
    "type(metaphor_pat)"
   ],
   "outputs": [
    {
     "output_type": "execute_result",
     "data": {
      "text/plain": [
       "list"
      ]
     },
     "metadata": {},
     "execution_count": 17
    }
   ],
   "metadata": {}
  },
  {
   "cell_type": "code",
   "execution_count": 18,
   "source": [
    "matcher.add('Metaphor',[metaphor_pat,simile_pat,simile_pat1])"
   ],
   "outputs": [],
   "metadata": {}
  },
  {
   "cell_type": "code",
   "execution_count": 19,
   "source": [
    "matches = matcher(doc)"
   ],
   "outputs": [],
   "metadata": {}
  },
  {
   "cell_type": "code",
   "execution_count": 20,
   "source": [
    "type(matches)"
   ],
   "outputs": [
    {
     "output_type": "execute_result",
     "data": {
      "text/plain": [
       "list"
      ]
     },
     "metadata": {},
     "execution_count": 20
    }
   ],
   "metadata": {}
  },
  {
   "cell_type": "code",
   "execution_count": 21,
   "source": [
    "matches"
   ],
   "outputs": [
    {
     "output_type": "execute_result",
     "data": {
      "text/plain": [
       "[(6519282501060040748, 11, 15),\n",
       " (6519282501060040748, 36, 40),\n",
       " (6519282501060040748, 187, 191)]"
      ]
     },
     "metadata": {},
     "execution_count": 21
    }
   ],
   "metadata": {}
  },
  {
   "cell_type": "code",
   "execution_count": 22,
   "source": [
    "doc[5:9]"
   ],
   "outputs": [
    {
     "output_type": "execute_result",
     "data": {
      "text/plain": [
       "his wife, he"
      ]
     },
     "metadata": {},
     "execution_count": 22
    }
   ],
   "metadata": {}
  },
  {
   "cell_type": "code",
   "execution_count": 23,
   "source": [
    "doc[matches[0][1]:matches[0][2]]"
   ],
   "outputs": [
    {
     "output_type": "execute_result",
     "data": {
      "text/plain": [
       "quiet as a mouse"
      ]
     },
     "metadata": {},
     "execution_count": 23
    }
   ],
   "metadata": {}
  },
  {
   "cell_type": "code",
   "execution_count": 24,
   "source": [
    "for m_id, m_start, m_end in matches:\n",
    "    span = doc[m_start : m_end]\n",
    "    print(f'{m_id} : {span}')"
   ],
   "outputs": [
    {
     "output_type": "stream",
     "name": "stdout",
     "text": [
      "6519282501060040748 : quiet as a mouse\n",
      "6519282501060040748 : Marriage is a journey\n",
      "6519282501060040748 : happy as a pig\n"
     ]
    }
   ],
   "metadata": {}
  },
  {
   "cell_type": "code",
   "execution_count": 25,
   "source": [
    "word = \"wasn't\""
   ],
   "outputs": [],
   "metadata": {}
  },
  {
   "cell_type": "code",
   "execution_count": 26,
   "source": [
    "doc = nlp(word)"
   ],
   "outputs": [],
   "metadata": {}
  },
  {
   "cell_type": "code",
   "execution_count": 27,
   "source": [
    "doc[0].lemma_"
   ],
   "outputs": [
    {
     "output_type": "execute_result",
     "data": {
      "text/plain": [
       "'be'"
      ]
     },
     "metadata": {},
     "execution_count": 27
    }
   ],
   "metadata": {}
  },
  {
   "cell_type": "code",
   "execution_count": 28,
   "source": [
    "matcher.remove('Metaphor')"
   ],
   "outputs": [],
   "metadata": {}
  },
  {
   "cell_type": "markdown",
   "source": [],
   "metadata": {}
  },
  {
   "cell_type": "code",
   "execution_count": 29,
   "source": [
    "#Trying to pull out the metaphor\n",
    "Newtext = \"As John snuck up on his wife, he was as quiet as a mouse. Salley is a daisy and everybody likes her. She had been married to John for five years.  Marriage is a journey, but marriage to John is more exciting than most. Life with John was nothing if not exciting. But life wasn't a beach for the two.\\n\\nThey had a great dog, Max, but death like a thief stole Max at a snail's pace.  Max made many memorable moments, making them miss him in a multitude of melancholy moments of malaise. Max once pulled the couple out of bed during a house fire, so the two could get to safety before the house became engulfed in flames. \\n\\nYes, life is a fickle mistress for the young couple, but they soldier on. As John reaches out to startle Salley, she turned with the garden hose dousing him in water. Life ain't a peach, but the were as happy as a pig in mud.\\n\""
   ],
   "outputs": [],
   "metadata": {}
  },
  {
   "cell_type": "code",
   "execution_count": 30,
   "source": [
    "doc1 = nlp(Newtext)"
   ],
   "outputs": [],
   "metadata": {}
  },
  {
   "cell_type": "code",
   "execution_count": 31,
   "source": [
    "import re"
   ],
   "outputs": [],
   "metadata": {}
  },
  {
   "cell_type": "code",
   "execution_count": 32,
   "source": [
    "pattern = \"Max made many memorable moments\""
   ],
   "outputs": [],
   "metadata": {}
  },
  {
   "cell_type": "code",
   "execution_count": 33,
   "source": [
    "mymatch = re.search(pattern,Newtext)"
   ],
   "outputs": [],
   "metadata": {}
  },
  {
   "cell_type": "code",
   "execution_count": 34,
   "source": [
    "print(mymatch)"
   ],
   "outputs": [
    {
     "output_type": "stream",
     "name": "stdout",
     "text": [
      "<re.Match object; span=(381, 412), match='Max made many memorable moments'>\n"
     ]
    }
   ],
   "metadata": {}
  },
  {
   "cell_type": "code",
   "execution_count": 35,
   "source": [
    "mymatch.span()"
   ],
   "outputs": [
    {
     "output_type": "execute_result",
     "data": {
      "text/plain": [
       "(381, 412)"
      ]
     },
     "metadata": {},
     "execution_count": 35
    }
   ],
   "metadata": {}
  },
  {
   "cell_type": "code",
   "execution_count": 36,
   "source": [
    "mymatch.start()"
   ],
   "outputs": [
    {
     "output_type": "execute_result",
     "data": {
      "text/plain": [
       "381"
      ]
     },
     "metadata": {},
     "execution_count": 36
    }
   ],
   "metadata": {}
  },
  {
   "cell_type": "code",
   "execution_count": 37,
   "source": [
    "mymatch.end()"
   ],
   "outputs": [
    {
     "output_type": "execute_result",
     "data": {
      "text/plain": [
       "412"
      ]
     },
     "metadata": {},
     "execution_count": 37
    }
   ],
   "metadata": {}
  },
  {
   "cell_type": "code",
   "execution_count": 38,
   "source": [
    "print(f\"match\")"
   ],
   "outputs": [
    {
     "output_type": "stream",
     "name": "stdout",
     "text": [
      "match\n"
     ]
    }
   ],
   "metadata": {}
  },
  {
   "cell_type": "code",
   "execution_count": 39,
   "source": [
    "for match in re.finditer(\"pattern\",text):\n",
    "    print(match.span())"
   ],
   "outputs": [],
   "metadata": {}
  },
  {
   "cell_type": "code",
   "execution_count": null,
   "source": [],
   "outputs": [],
   "metadata": {}
  },
  {
   "cell_type": "code",
   "execution_count": 40,
   "source": [
    "for sen in doc.sents:\n",
    "    print(f'{sen} \\n\\n\\n')"
   ],
   "outputs": [
    {
     "output_type": "stream",
     "name": "stdout",
     "text": [
      "wasn't \n",
      "\n",
      "\n",
      "\n"
     ]
    }
   ],
   "metadata": {}
  },
  {
   "cell_type": "code",
   "execution_count": 41,
   "source": [
    "import re"
   ],
   "outputs": [],
   "metadata": {}
  },
  {
   "cell_type": "code",
   "execution_count": null,
   "source": [],
   "outputs": [],
   "metadata": {}
  }
 ],
 "metadata": {
  "kernelspec": {
   "name": "python3",
   "display_name": "Python 3.7.11 64-bit ('npl_env': conda)"
  },
  "language_info": {
   "codemirror_mode": {
    "name": "ipython",
    "version": 3
   },
   "file_extension": ".py",
   "mimetype": "text/x-python",
   "name": "python",
   "nbconvert_exporter": "python",
   "pygments_lexer": "ipython3",
   "version": "3.7.11"
  },
  "interpreter": {
   "hash": "751216705a79b7f6cf1148cecf79df5b34bee87dafefc636221f8d0fc6c6278f"
  }
 },
 "nbformat": 4,
 "nbformat_minor": 5
}